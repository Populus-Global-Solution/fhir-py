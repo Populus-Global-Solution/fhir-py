{
  "cells": [
    {
      "cell_type": "markdown",
      "metadata": {
        "id": "Leh7xvokM5xN"
      },
      "source": [
        "# BCDA Synthetic Data Exploration with FHIR Views\n",
        "\n",
        "[![Open In Colab](https://colab.research.google.com/assets/colab-badge.svg)](https://colab.research.google.com/github/google/fhir-py/blob/main/examples/bcda_synthetic_data_exploration.ipynb) __(Synthetic data only--not HIPAA compliant)__\n",
        "\n",
        "[__Deploy on a Vertex AI Notebook__](https://console.cloud.google.com/vertex-ai/workbench/user-managed/deploy?download_url=https:%2F%2Fraw.githubusercontent.com%2Fgoogle%2Ffhir-py%2Fmain%2Fexamples%2Fbcda_synthetic_data_exploration.ipynb) [__(HIPAA Compliant and BAA Covered According to GCP)__](https://cloud.google.com/security/compliance/hipaa#covered-products)\n",
        "\n",
        "This notebook uses FHIR Views to explore claims data from Medicare's Beneficiary Claims Data API (BCDA), which can be imported to BigQuery and FHIR Store out of the box using these [open source tools](https://github.com/google/medical_claims_tools). Accountable Care Organizations that participate in the Medicare Shared Savings Program can use those tools to fetch data periodically from BCDA and use tools like FHIR Views to build analyses over that data.\n",
        "\n",
        "FHIR Views seeks to simplify building views over nested FHIR data via a python API similar to the [FHIR Path specification](https://www.hl7.org/fhir/fhirpath.html). The FHIR Views toolkit will generate BigQuery SQL under the hood to build (and optionally materialize) the views specified by the user. Simplified flat views over the FHIR data can then be used for more detailed downstream analysis.\n",
        "\n",
        "It will be helpful to take a look at the [FHIR Views Documentation](https://github.com/google/fhir-py/blob/main/google-fhir-views/README.md) as well as the example [statin analysis](https://github.com/google/fhir-py/blob/main/examples/statin_analysis_example.ipynb) notebook before jumping in here.\n",
        "\n",
        "__Note: the saved results visible in this notebook are from synthetic BCDA data__, however the analyses in this notebook can be run over any BCDA data imported to FHIR Store and BigQuery via the [open source tools](https://github.com/google/medical_claims_tools) or other fashion."
      ]
    },
    {
      "cell_type": "markdown",
      "metadata": {
        "id": "aaw1W6gSk7qa"
      },
      "source": [
        "## Installation\n",
        "If you have Python 3.8 or newer installed, this library can by installed from pypi by simply running:\n",
        "\n",
        "```\n",
        "pip install google-fhir-views[r4,bigquery]\n",
        "```\n",
        "\n",
        "It's recommended to do so *before* starting the notebook kernel to avoid any dependency version issues. \n",
        "\n",
        "If you are running in Vertex AI Workbench with an older version of Python you will need to upgrade then install. This can be done with the following commands in a terminal:\n",
        "\n",
        "\n",
        "```\n",
        "conda create -n python310 python=3.10 -y\n",
        "conda activate python310\n",
        "conda install ipykernel -y\n",
        "ipython kernel install --user --name=python310\n",
        "pip install google-fhir-views[r4,bigquery]\n",
        "\n",
        "```\n",
        "\n",
        "Running the cell below will attempt to install the libraries in your notebook environment, after which you will need to manually restart the kernel."
      ]
    },
    {
      "cell_type": "code",
      "source": [
        "!pip install google-fhir-views[r4,bigquery]"
      ],
      "metadata": {
        "id": "9uRrH6zbBQEi"
      },
      "execution_count": null,
      "outputs": []
    },
    {
      "cell_type": "markdown",
      "metadata": {
        "id": "g0PAFuWUltWX"
      },
      "source": [
        "# Setup and Authentication\n",
        "Users of this notebook will need to obtain BigQuery credentials. If you're using Vertex AI Notebooks, the runner should by default have access to query BigQuery datasets in your project. If you are using Colab, running the cell below should set up the needed authentication.\n",
        "\n",
        "\n",
        "__Please note that Colab is not HIPAA eligible and should only be used with synthetic data. Please use Vertex AI Notebooks if a HIPAA environment is needed.__\n",
        "\n",
        "There are a few other ways to get this setup, but the best option is likely\n",
        "[this example](https://cloud.google.com/bigquery/docs/authentication/end-user-installed#bigquery-enduser-installed-packages-python)."
      ]
    },
    {
      "cell_type": "code",
      "source": [
        "if 'google.colab' in str(get_ipython()):\n",
        "  print('NOTE: COLAB IS NOT HIPAA ELIGIBLE, please only continue with synthetic data.')\n",
        "  from google.colab import auth\n",
        "  auth.authenticate_user()\n",
        "  print('Authenticated')"
      ],
      "metadata": {
        "id": "aaLNe7ObBs36"
      },
      "execution_count": null,
      "outputs": []
    },
    {
      "cell_type": "code",
      "execution_count": null,
      "metadata": {
        "id": "Pf8ClhH-oCrf"
      },
      "outputs": [],
      "source": [
        "#@title Parameters\n",
        "PROJECT_ID = \"betazed\" #@param {type:\"string\"}\n",
        "VIEW_DATASET = \"fhir_views\" #@param {type:\"string\"}"
      ]
    },
    {
      "cell_type": "code",
      "execution_count": null,
      "metadata": {
        "id": "PoQNwApqokKS"
      },
      "outputs": [],
      "source": [
        "import datetime\n",
        "from google.cloud import bigquery as bq\n",
        "from google.fhir.views import r4, bigquery_runner\n",
        "from google.cloud import bigquery\n",
        "\n",
        "bqclient = bigquery.Client(project=PROJECT_ID)\n",
        "\n",
        "# Create the BigQuery runner we will use to evaluate our FHIR views. \n",
        "runner = bigquery_runner.BigQueryRunner(\n",
        "    bqclient,\n",
        "    fhir_dataset='betazed.bcda_synthetic_advanced_large',\n",
        "    view_dataset=f'{PROJECT_ID}.{VIEW_DATASET}')\n",
        "\n",
        "# Load views based on the base FHIR R4 profile definitions.\n",
        "views = r4.base_r4()"
      ]
    },
    {
      "cell_type": "markdown",
      "metadata": {
        "id": "kx5CGnE03uWr"
      },
      "source": [
        "## Introduction\n",
        "\n",
        "Using just the [ExplanationOfBenefit](https://build.fhir.org/explanationofbenefit.html) resource, we can create a view of the basic ExplanationOfBenefit profile and build more complex analyses upon it."
      ]
    },
    {
      "cell_type": "code",
      "execution_count": null,
      "metadata": {
        "id": "slA0DplI4RDB"
      },
      "outputs": [],
      "source": [
        "eob = views.view_of('ExplanationOfBenefit')"
      ]
    },
    {
      "cell_type": "markdown",
      "metadata": {
        "id": "ZTZiAKjP4hpS"
      },
      "source": [
        "If we were to save eob to a table using `runner.to_dataframe(eob)` it would write the entire table stored in `betazed.bcda_synthetic_advanced_large.ExplanationOfBenefit` to a dataframe. Since this is a very large and complicated table with nested information we might not need for the particular analysis at hand, in most cases, we do not want to do this. \n",
        "\n",
        "Instead, we can use the FHIR Views APIs to built flat, filtered views of just the data we need for the analysis at hand."
      ]
    },
    {
      "cell_type": "markdown",
      "metadata": {
        "id": "djn4vw7OC0q4"
      },
      "source": [
        "## Claim Types\n",
        "\n",
        "Let's take a closer look at the types of ExplanationOfBenefits in our dataset, by summarizing the ExplanationOfBenefit.type values across the entire dataset."
      ]
    },
    {
      "cell_type": "code",
      "execution_count": null,
      "metadata": {
        "id": "TozXSAgUCzrf",
        "outputId": "af0fa80b-3272-48b5-f44a-92d02d4c8144"
      },
      "outputs": [
        {
          "data": {
            "text/html": [
              "<div>\n",
              "<style scoped>\n",
              "    .dataframe tbody tr th:only-of-type {\n",
              "        vertical-align: middle;\n",
              "    }\n",
              "\n",
              "    .dataframe tbody tr th {\n",
              "        vertical-align: top;\n",
              "    }\n",
              "\n",
              "    .dataframe thead th {\n",
              "        text-align: right;\n",
              "    }\n",
              "</style>\n",
              "<table border=\"1\" class=\"dataframe\">\n",
              "  <thead>\n",
              "    <tr style=\"text-align: right;\">\n",
              "      <th></th>\n",
              "      <th>system</th>\n",
              "      <th>code</th>\n",
              "      <th>display</th>\n",
              "      <th>count</th>\n",
              "    </tr>\n",
              "  </thead>\n",
              "  <tbody>\n",
              "    <tr>\n",
              "      <th>0</th>\n",
              "      <td>http://terminology.hl7.org/CodeSystem/claim-type</td>\n",
              "      <td>institutional</td>\n",
              "      <td>Institutional</td>\n",
              "      <td>729947</td>\n",
              "    </tr>\n",
              "    <tr>\n",
              "      <th>1</th>\n",
              "      <td>https://bluebutton.cms.gov/resources/variables...</td>\n",
              "      <td>40</td>\n",
              "      <td>Hospital Outpatient claim</td>\n",
              "      <td>644890</td>\n",
              "    </tr>\n",
              "    <tr>\n",
              "      <th>2</th>\n",
              "      <td>https://bluebutton.cms.gov/resources/codesyste...</td>\n",
              "      <td>OUTPATIENT</td>\n",
              "      <td>None</td>\n",
              "      <td>644890</td>\n",
              "    </tr>\n",
              "    <tr>\n",
              "      <th>3</th>\n",
              "      <td>http://terminology.hl7.org/CodeSystem/claim-type</td>\n",
              "      <td>professional</td>\n",
              "      <td>Professional</td>\n",
              "      <td>613120</td>\n",
              "    </tr>\n",
              "    <tr>\n",
              "      <th>4</th>\n",
              "      <td>https://bluebutton.cms.gov/resources/variables...</td>\n",
              "      <td>71</td>\n",
              "      <td>Local carrier non-durable medical equipment, p...</td>\n",
              "      <td>574795</td>\n",
              "    </tr>\n",
              "    <tr>\n",
              "      <th>5</th>\n",
              "      <td>https://bluebutton.cms.gov/resources/codesyste...</td>\n",
              "      <td>CARRIER</td>\n",
              "      <td>None</td>\n",
              "      <td>574795</td>\n",
              "    </tr>\n",
              "    <tr>\n",
              "      <th>6</th>\n",
              "      <td>https://bluebutton.cms.gov/resources/codesyste...</td>\n",
              "      <td>PDE</td>\n",
              "      <td>None</td>\n",
              "      <td>439504</td>\n",
              "    </tr>\n",
              "    <tr>\n",
              "      <th>7</th>\n",
              "      <td>http://terminology.hl7.org/CodeSystem/claim-type</td>\n",
              "      <td>pharmacy</td>\n",
              "      <td>Pharmacy</td>\n",
              "      <td>439504</td>\n",
              "    </tr>\n",
              "    <tr>\n",
              "      <th>8</th>\n",
              "      <td>https://bluebutton.cms.gov/resources/variables...</td>\n",
              "      <td>60</td>\n",
              "      <td>Inpatient claim</td>\n",
              "      <td>74137</td>\n",
              "    </tr>\n",
              "    <tr>\n",
              "      <th>9</th>\n",
              "      <td>https://bluebutton.cms.gov/resources/codesyste...</td>\n",
              "      <td>INPATIENT</td>\n",
              "      <td>None</td>\n",
              "      <td>74137</td>\n",
              "    </tr>\n",
              "    <tr>\n",
              "      <th>10</th>\n",
              "      <td>https://bluebutton.cms.gov/resources/variables...</td>\n",
              "      <td>10</td>\n",
              "      <td>Home Health Agency (HHA) claim</td>\n",
              "      <td>38325</td>\n",
              "    </tr>\n",
              "    <tr>\n",
              "      <th>11</th>\n",
              "      <td>https://bluebutton.cms.gov/resources/codesyste...</td>\n",
              "      <td>HHA</td>\n",
              "      <td>None</td>\n",
              "      <td>38325</td>\n",
              "    </tr>\n",
              "    <tr>\n",
              "      <th>12</th>\n",
              "      <td>https://bluebutton.cms.gov/resources/variables...</td>\n",
              "      <td>20</td>\n",
              "      <td>Non swing bed Skilled Nursing Facility (SNF) c...</td>\n",
              "      <td>6724</td>\n",
              "    </tr>\n",
              "    <tr>\n",
              "      <th>13</th>\n",
              "      <td>https://bluebutton.cms.gov/resources/codesyste...</td>\n",
              "      <td>SNF</td>\n",
              "      <td>None</td>\n",
              "      <td>6724</td>\n",
              "    </tr>\n",
              "    <tr>\n",
              "      <th>14</th>\n",
              "      <td>https://bluebutton.cms.gov/resources/variables...</td>\n",
              "      <td>50</td>\n",
              "      <td>Hospice claim</td>\n",
              "      <td>4196</td>\n",
              "    </tr>\n",
              "    <tr>\n",
              "      <th>15</th>\n",
              "      <td>https://bluebutton.cms.gov/resources/codesyste...</td>\n",
              "      <td>HOSPICE</td>\n",
              "      <td>None</td>\n",
              "      <td>4196</td>\n",
              "    </tr>\n",
              "  </tbody>\n",
              "</table>\n",
              "</div>"
            ],
            "text/plain": [
              "                                               system           code  \\\n",
              "0    http://terminology.hl7.org/CodeSystem/claim-type  institutional   \n",
              "1   https://bluebutton.cms.gov/resources/variables...             40   \n",
              "2   https://bluebutton.cms.gov/resources/codesyste...     OUTPATIENT   \n",
              "3    http://terminology.hl7.org/CodeSystem/claim-type   professional   \n",
              "4   https://bluebutton.cms.gov/resources/variables...             71   \n",
              "5   https://bluebutton.cms.gov/resources/codesyste...        CARRIER   \n",
              "6   https://bluebutton.cms.gov/resources/codesyste...            PDE   \n",
              "7    http://terminology.hl7.org/CodeSystem/claim-type       pharmacy   \n",
              "8   https://bluebutton.cms.gov/resources/variables...             60   \n",
              "9   https://bluebutton.cms.gov/resources/codesyste...      INPATIENT   \n",
              "10  https://bluebutton.cms.gov/resources/variables...             10   \n",
              "11  https://bluebutton.cms.gov/resources/codesyste...            HHA   \n",
              "12  https://bluebutton.cms.gov/resources/variables...             20   \n",
              "13  https://bluebutton.cms.gov/resources/codesyste...            SNF   \n",
              "14  https://bluebutton.cms.gov/resources/variables...             50   \n",
              "15  https://bluebutton.cms.gov/resources/codesyste...        HOSPICE   \n",
              "\n",
              "                                              display   count  \n",
              "0                                       Institutional  729947  \n",
              "1                           Hospital Outpatient claim  644890  \n",
              "2                                                None  644890  \n",
              "3                                        Professional  613120  \n",
              "4   Local carrier non-durable medical equipment, p...  574795  \n",
              "5                                                None  574795  \n",
              "6                                                None  439504  \n",
              "7                                            Pharmacy  439504  \n",
              "8                                     Inpatient claim   74137  \n",
              "9                                                None   74137  \n",
              "10                     Home Health Agency (HHA) claim   38325  \n",
              "11                                               None   38325  \n",
              "12  Non swing bed Skilled Nursing Facility (SNF) c...    6724  \n",
              "13                                               None    6724  \n",
              "14                                      Hospice claim    4196  \n",
              "15                                               None    4196  "
            ]
          },
          "execution_count": 4,
          "metadata": {},
          "output_type": "execute_result"
        }
      ],
      "source": [
        "type_summary = runner.summarize_codes(eob, eob.type)\n",
        "type_summary"
      ]
    },
    {
      "cell_type": "markdown",
      "metadata": {
        "id": "rDIV4xqKWEpg"
      },
      "source": [
        "A couple things to notice--there are a couple different code systems to describe the types of our ExplanationOfBenefits. Let's use some pandas APIs to organize this a little better:"
      ]
    },
    {
      "cell_type": "code",
      "execution_count": null,
      "metadata": {
        "id": "TwO4tF35WEpg",
        "outputId": "a3bb1c13-95fc-495a-f32b-1fc2887c1781"
      },
      "outputs": [
        {
          "data": {
            "text/html": [
              "<div>\n",
              "<style scoped>\n",
              "    .dataframe tbody tr th:only-of-type {\n",
              "        vertical-align: middle;\n",
              "    }\n",
              "\n",
              "    .dataframe tbody tr th {\n",
              "        vertical-align: top;\n",
              "    }\n",
              "\n",
              "    .dataframe thead th {\n",
              "        text-align: right;\n",
              "    }\n",
              "</style>\n",
              "<table border=\"1\" class=\"dataframe\">\n",
              "  <thead>\n",
              "    <tr style=\"text-align: right;\">\n",
              "      <th></th>\n",
              "      <th></th>\n",
              "      <th>code</th>\n",
              "      <th>display</th>\n",
              "    </tr>\n",
              "    <tr>\n",
              "      <th>system</th>\n",
              "      <th>count</th>\n",
              "      <th></th>\n",
              "      <th></th>\n",
              "    </tr>\n",
              "  </thead>\n",
              "  <tbody>\n",
              "    <tr>\n",
              "      <th rowspan=\"6\" valign=\"top\">https://bluebutton.cms.gov/resources/variables/nch_clm_type_cd</th>\n",
              "      <th>644890</th>\n",
              "      <td>40</td>\n",
              "      <td>Hospital Outpatient claim</td>\n",
              "    </tr>\n",
              "    <tr>\n",
              "      <th>574795</th>\n",
              "      <td>71</td>\n",
              "      <td>Local carrier non-durable medical equipment, p...</td>\n",
              "    </tr>\n",
              "    <tr>\n",
              "      <th>74137</th>\n",
              "      <td>60</td>\n",
              "      <td>Inpatient claim</td>\n",
              "    </tr>\n",
              "    <tr>\n",
              "      <th>38325</th>\n",
              "      <td>10</td>\n",
              "      <td>Home Health Agency (HHA) claim</td>\n",
              "    </tr>\n",
              "    <tr>\n",
              "      <th>6724</th>\n",
              "      <td>20</td>\n",
              "      <td>Non swing bed Skilled Nursing Facility (SNF) c...</td>\n",
              "    </tr>\n",
              "    <tr>\n",
              "      <th>4196</th>\n",
              "      <td>50</td>\n",
              "      <td>Hospice claim</td>\n",
              "    </tr>\n",
              "    <tr>\n",
              "      <th rowspan=\"7\" valign=\"top\">https://bluebutton.cms.gov/resources/codesystem/eob-type</th>\n",
              "      <th>644890</th>\n",
              "      <td>OUTPATIENT</td>\n",
              "      <td>None</td>\n",
              "    </tr>\n",
              "    <tr>\n",
              "      <th>574795</th>\n",
              "      <td>CARRIER</td>\n",
              "      <td>None</td>\n",
              "    </tr>\n",
              "    <tr>\n",
              "      <th>439504</th>\n",
              "      <td>PDE</td>\n",
              "      <td>None</td>\n",
              "    </tr>\n",
              "    <tr>\n",
              "      <th>74137</th>\n",
              "      <td>INPATIENT</td>\n",
              "      <td>None</td>\n",
              "    </tr>\n",
              "    <tr>\n",
              "      <th>38325</th>\n",
              "      <td>HHA</td>\n",
              "      <td>None</td>\n",
              "    </tr>\n",
              "    <tr>\n",
              "      <th>6724</th>\n",
              "      <td>SNF</td>\n",
              "      <td>None</td>\n",
              "    </tr>\n",
              "    <tr>\n",
              "      <th>4196</th>\n",
              "      <td>HOSPICE</td>\n",
              "      <td>None</td>\n",
              "    </tr>\n",
              "    <tr>\n",
              "      <th rowspan=\"3\" valign=\"top\">http://terminology.hl7.org/CodeSystem/claim-type</th>\n",
              "      <th>729947</th>\n",
              "      <td>institutional</td>\n",
              "      <td>Institutional</td>\n",
              "    </tr>\n",
              "    <tr>\n",
              "      <th>613120</th>\n",
              "      <td>professional</td>\n",
              "      <td>Professional</td>\n",
              "    </tr>\n",
              "    <tr>\n",
              "      <th>439504</th>\n",
              "      <td>pharmacy</td>\n",
              "      <td>Pharmacy</td>\n",
              "    </tr>\n",
              "  </tbody>\n",
              "</table>\n",
              "</div>"
            ],
            "text/plain": [
              "                                                                    code  \\\n",
              "system                                             count                   \n",
              "https://bluebutton.cms.gov/resources/variables/... 644890             40   \n",
              "                                                   574795             71   \n",
              "                                                   74137              60   \n",
              "                                                   38325              10   \n",
              "                                                   6724               20   \n",
              "                                                   4196               50   \n",
              "https://bluebutton.cms.gov/resources/codesystem... 644890     OUTPATIENT   \n",
              "                                                   574795        CARRIER   \n",
              "                                                   439504            PDE   \n",
              "                                                   74137       INPATIENT   \n",
              "                                                   38325             HHA   \n",
              "                                                   6724              SNF   \n",
              "                                                   4196          HOSPICE   \n",
              "http://terminology.hl7.org/CodeSystem/claim-type   729947  institutional   \n",
              "                                                   613120   professional   \n",
              "                                                   439504       pharmacy   \n",
              "\n",
              "                                                                                                     display  \n",
              "system                                             count                                                      \n",
              "https://bluebutton.cms.gov/resources/variables/... 644890                          Hospital Outpatient claim  \n",
              "                                                   574795  Local carrier non-durable medical equipment, p...  \n",
              "                                                   74137                                     Inpatient claim  \n",
              "                                                   38325                      Home Health Agency (HHA) claim  \n",
              "                                                   6724    Non swing bed Skilled Nursing Facility (SNF) c...  \n",
              "                                                   4196                                        Hospice claim  \n",
              "https://bluebutton.cms.gov/resources/codesystem... 644890                                               None  \n",
              "                                                   574795                                               None  \n",
              "                                                   439504                                               None  \n",
              "                                                   74137                                                None  \n",
              "                                                   38325                                                None  \n",
              "                                                   6724                                                 None  \n",
              "                                                   4196                                                 None  \n",
              "http://terminology.hl7.org/CodeSystem/claim-type   729947                                      Institutional  \n",
              "                                                   613120                                       Professional  \n",
              "                                                   439504                                           Pharmacy  "
            ]
          },
          "execution_count": 49,
          "metadata": {},
          "output_type": "execute_result"
        }
      ],
      "source": [
        "type_summary.groupby(['system','count']).first().sort_index(ascending=False)"
      ]
    },
    {
      "cell_type": "markdown",
      "metadata": {
        "id": "mfKT3WLmWEph"
      },
      "source": [
        "Let's proceed with the `https://bluebutton.cms.gov/resources/codesystem/eob-type` code system for some our of claim type specific explorations below."
      ]
    },
    {
      "cell_type": "markdown",
      "metadata": {
        "id": "bIErqtmcOAVb"
      },
      "source": [
        "## PDE (Pharmacy) Claims Exploration\n",
        "\n",
        "Let's take a look at prescription drug event (PDE) data that are submitted when a prescription is filled under Medicare Part D.\n",
        "\n",
        "To do so, we can use FHIR View's rich support for valuesets filter to claims that are a member of the PDE claim type valueset. In FHIR Views, one can specify valuesets manually (as below) or [pull valuesets](https://github.com/google/fhir-py/blob/main/google-fhir-views/README.md#working-with-code-values) from an established authority like the [Value Set Authority Center](https://vsac.nlm.nih.gov/)."
      ]
    },
    {
      "cell_type": "code",
      "execution_count": null,
      "metadata": {
        "id": "2XBSWQDj2gb3"
      },
      "outputs": [],
      "source": [
        "pharmacy_value_set = r4.value_set('urn:example:valueset:pharmacy_claims').with_codes(\n",
        "    'https://bluebutton.cms.gov/resources/codesystem/eob-type', ['PDE']).build()"
      ]
    },
    {
      "cell_type": "markdown",
      "metadata": {
        "id": "4rQDpQ6E2kSj"
      },
      "source": [
        "Now that we have a valueset defined, let's build a view of the ExplanationOfBenefits that is filtered to include only those in our valueset _and_ is a flat representation of data we're interested in."
      ]
    },
    {
      "cell_type": "code",
      "execution_count": null,
      "metadata": {
        "id": "rhVa3UyEN_bk",
        "outputId": "19a6c737-7e48-4bc6-b441-6acb04cc3c42"
      },
      "outputs": [
        {
          "data": {
            "text/html": [
              "<div>\n",
              "<style scoped>\n",
              "    .dataframe tbody tr th:only-of-type {\n",
              "        vertical-align: middle;\n",
              "    }\n",
              "\n",
              "    .dataframe tbody tr th {\n",
              "        vertical-align: top;\n",
              "    }\n",
              "\n",
              "    .dataframe thead th {\n",
              "        text-align: right;\n",
              "    }\n",
              "</style>\n",
              "<table border=\"1\" class=\"dataframe\">\n",
              "  <thead>\n",
              "    <tr style=\"text-align: right;\">\n",
              "      <th></th>\n",
              "      <th>eob_id</th>\n",
              "      <th>patient</th>\n",
              "      <th>first_ndc</th>\n",
              "      <th>serviced_date</th>\n",
              "    </tr>\n",
              "  </thead>\n",
              "  <tbody>\n",
              "    <tr>\n",
              "      <th>0</th>\n",
              "      <td>pde--10000000138</td>\n",
              "      <td>-10000000000009</td>\n",
              "      <td>10267002205</td>\n",
              "      <td>2013-11-29</td>\n",
              "    </tr>\n",
              "    <tr>\n",
              "      <th>1</th>\n",
              "      <td>pde--10000000140</td>\n",
              "      <td>-10000000000009</td>\n",
              "      <td>63481062925</td>\n",
              "      <td>2014-02-06</td>\n",
              "    </tr>\n",
              "    <tr>\n",
              "      <th>2</th>\n",
              "      <td>pde--10000000143</td>\n",
              "      <td>-10000000000009</td>\n",
              "      <td>16590061860</td>\n",
              "      <td>2014-02-06</td>\n",
              "    </tr>\n",
              "    <tr>\n",
              "      <th>3</th>\n",
              "      <td>pde--10000000147</td>\n",
              "      <td>-10000000000009</td>\n",
              "      <td>60505700102</td>\n",
              "      <td>2014-03-28</td>\n",
              "    </tr>\n",
              "    <tr>\n",
              "      <th>4</th>\n",
              "      <td>pde--10000000149</td>\n",
              "      <td>-10000000000009</td>\n",
              "      <td>63629386106</td>\n",
              "      <td>2014-08-20</td>\n",
              "    </tr>\n",
              "  </tbody>\n",
              "</table>\n",
              "</div>"
            ],
            "text/plain": [
              "             eob_id          patient    first_ndc serviced_date\n",
              "0  pde--10000000138  -10000000000009  10267002205    2013-11-29\n",
              "1  pde--10000000140  -10000000000009  63481062925    2014-02-06\n",
              "2  pde--10000000143  -10000000000009  16590061860    2014-02-06\n",
              "3  pde--10000000147  -10000000000009  60505700102    2014-03-28\n",
              "4  pde--10000000149  -10000000000009  63629386106    2014-08-20"
            ]
          },
          "execution_count": 25,
          "metadata": {},
          "output_type": "execute_result"
        }
      ],
      "source": [
        "eob_pde_codes = (\n",
        "    eob.select({\n",
        "        'eob_id': eob.id,\n",
        "        'patient': eob.patient.idFor('Patient'),\n",
        "        'first_ndc': eob.item.productOrService.coding.where(\n",
        "            eob.item.productOrService.coding.system == 'http://hl7.org/fhir/sid/ndc')\n",
        "              .first().code,\n",
        "        'serviced_date': eob.item.first().serviced.ofType('date'),\n",
        "    }).where(eob.type.memberOf(pharmacy_value_set)))\n",
        "\n",
        "runner.to_dataframe(eob_pde_codes, limit=5) # Preview 5 rows of the eob_pde_codes view."
      ]
    },
    {
      "cell_type": "markdown",
      "metadata": {
        "id": "YQZtIYD-WEph"
      },
      "source": [
        "From this __clean, flat, and filtered view__ of the otherwise complex/nested FHIR data, we can easily build follow on analyses.\n",
        "\n",
        "Also note, that FHIR views are composable and build on each other easily. For example, if we wanted to create a subview of `eob_pde_codes` for those with serviced.date in 2012 we can do:"
      ]
    },
    {
      "cell_type": "code",
      "execution_count": null,
      "metadata": {
        "id": "__cqiJiIWEph",
        "outputId": "19eaee95-c701-4061-c6b8-c02fe10a0807"
      },
      "outputs": [
        {
          "data": {
            "text/html": [
              "<style type=\"text/css\">\n",
              "</style>\n",
              "<table id=\"T_a2636_\">\n",
              "  <caption>2012 EOB PDEs</caption>\n",
              "  <thead>\n",
              "    <tr>\n",
              "      <th class=\"blank level0\" >&nbsp;</th>\n",
              "      <th class=\"col_heading level0 col0\" >eob_id</th>\n",
              "      <th class=\"col_heading level0 col1\" >patient</th>\n",
              "      <th class=\"col_heading level0 col2\" >first_ndc</th>\n",
              "      <th class=\"col_heading level0 col3\" >serviced_date</th>\n",
              "    </tr>\n",
              "  </thead>\n",
              "  <tbody>\n",
              "    <tr>\n",
              "      <th id=\"T_a2636_level0_row0\" class=\"row_heading level0 row0\" >0</th>\n",
              "      <td id=\"T_a2636_row0_col0\" class=\"data row0 col0\" >pde--10000000851</td>\n",
              "      <td id=\"T_a2636_row0_col1\" class=\"data row0 col1\" >-10000000000034</td>\n",
              "      <td id=\"T_a2636_row0_col2\" class=\"data row0 col2\" >00136680141</td>\n",
              "      <td id=\"T_a2636_row0_col3\" class=\"data row0 col3\" >2012-05-25</td>\n",
              "    </tr>\n",
              "    <tr>\n",
              "      <th id=\"T_a2636_level0_row1\" class=\"row_heading level0 row1\" >1</th>\n",
              "      <td id=\"T_a2636_row1_col0\" class=\"data row1 col0\" >pde--10000001698</td>\n",
              "      <td id=\"T_a2636_row1_col1\" class=\"data row1 col1\" >-10000000000070</td>\n",
              "      <td id=\"T_a2636_row1_col2\" class=\"data row1 col2\" >49999099310</td>\n",
              "      <td id=\"T_a2636_row1_col3\" class=\"data row1 col3\" >2012-01-13</td>\n",
              "    </tr>\n",
              "    <tr>\n",
              "      <th id=\"T_a2636_level0_row2\" class=\"row_heading level0 row2\" >2</th>\n",
              "      <td id=\"T_a2636_row2_col0\" class=\"data row2 col0\" >pde--10000001698</td>\n",
              "      <td id=\"T_a2636_row2_col1\" class=\"data row2 col1\" >-10000000000070</td>\n",
              "      <td id=\"T_a2636_row2_col2\" class=\"data row2 col2\" >49999099310</td>\n",
              "      <td id=\"T_a2636_row2_col3\" class=\"data row2 col3\" >2012-01-13</td>\n",
              "    </tr>\n",
              "    <tr>\n",
              "      <th id=\"T_a2636_level0_row3\" class=\"row_heading level0 row3\" >3</th>\n",
              "      <td id=\"T_a2636_row3_col0\" class=\"data row3 col0\" >pde--10000001699</td>\n",
              "      <td id=\"T_a2636_row3_col1\" class=\"data row3 col1\" >-10000000000070</td>\n",
              "      <td id=\"T_a2636_row3_col2\" class=\"data row3 col2\" >54569346700</td>\n",
              "      <td id=\"T_a2636_row3_col3\" class=\"data row3 col3\" >2012-07-06</td>\n",
              "    </tr>\n",
              "    <tr>\n",
              "      <th id=\"T_a2636_level0_row4\" class=\"row_heading level0 row4\" >4</th>\n",
              "      <td id=\"T_a2636_row4_col0\" class=\"data row4 col0\" >pde--10000001699</td>\n",
              "      <td id=\"T_a2636_row4_col1\" class=\"data row4 col1\" >-10000000000070</td>\n",
              "      <td id=\"T_a2636_row4_col2\" class=\"data row4 col2\" >54569346700</td>\n",
              "      <td id=\"T_a2636_row4_col3\" class=\"data row4 col3\" >2012-07-06</td>\n",
              "    </tr>\n",
              "  </tbody>\n",
              "</table>\n"
            ],
            "text/plain": [
              "<pandas.io.formats.style.Styler at 0x7f3bc2371e10>"
            ]
          },
          "execution_count": 26,
          "metadata": {},
          "output_type": "execute_result"
        }
      ],
      "source": [
        "import datetime\n",
        "start_date = datetime.date(2012,1,1)\n",
        "end_date = datetime.date(2013,1,1)\n",
        "\n",
        "eob_pde_codes_2012 = eob_pde_codes.where(\n",
        "    eob_pde_codes.serviced_date >= start_date, \n",
        "    eob_pde_codes.serviced_date < end_date)\n",
        "\n",
        "runner.to_dataframe(eob_pde_codes_2012, limit=5).style.set_caption('2012 EOB PDEs')"
      ]
    },
    {
      "cell_type": "markdown",
      "metadata": {
        "id": "LiqhXxg0WEpi"
      },
      "source": [
        "#### Save the view in BigQuery for downstream use\n",
        "Once we've defined a clean, flattened view of interest (like `eob_pde_codes_2012` above), we can save it as a [BigQuery view](https://cloud.google.com/bigquery/docs/views) back to a BigQuery dataset. Then, we can query this flattened view as if it was a BigQuery table, even from outside this notebook!\n",
        "\n",
        "Because of the way BigQuery views work, whenever you query this view \"virtual table\" it will always be up-to-date with the data in the underlying FHIR data BigQuery tables."
      ]
    },
    {
      "cell_type": "code",
      "execution_count": null,
      "metadata": {
        "id": "ZuHiSJygWEpi"
      },
      "outputs": [],
      "source": [
        "runner.create_database_view(eob_pde_codes_2012, \"eob_pde_codes_2012\")"
      ]
    },
    {
      "cell_type": "markdown",
      "metadata": {
        "id": "RaaDsdZ2WEpi"
      },
      "source": [
        "This creates the `eob_pde_codes_2012` view in our `view_dataset` we specfied in the setup. We can now query it like a BigQuery table from anywhere using SQL, for example:"
      ]
    },
    {
      "cell_type": "code",
      "execution_count": null,
      "metadata": {
        "id": "yMcHppvdWEpi",
        "outputId": "7bb5cf21-3fdf-43a1-9309-60e8eece9f4b"
      },
      "outputs": [
        {
          "name": "stderr",
          "output_type": "stream",
          "text": [
            "Query complete after 0.01s: 100%|██████████| 2/2 [00:00<00:00, 1186.17query/s]                        \n",
            "Downloading: 100%|██████████| 5/5 [00:01<00:00,  2.96rows/s]\n"
          ]
        },
        {
          "data": {
            "text/html": [
              "<div>\n",
              "<style scoped>\n",
              "    .dataframe tbody tr th:only-of-type {\n",
              "        vertical-align: middle;\n",
              "    }\n",
              "\n",
              "    .dataframe tbody tr th {\n",
              "        vertical-align: top;\n",
              "    }\n",
              "\n",
              "    .dataframe thead th {\n",
              "        text-align: right;\n",
              "    }\n",
              "</style>\n",
              "<table border=\"1\" class=\"dataframe\">\n",
              "  <thead>\n",
              "    <tr style=\"text-align: right;\">\n",
              "      <th></th>\n",
              "      <th>eob_id</th>\n",
              "      <th>patient</th>\n",
              "      <th>first_ndc</th>\n",
              "      <th>serviced_date</th>\n",
              "    </tr>\n",
              "  </thead>\n",
              "  <tbody>\n",
              "    <tr>\n",
              "      <th>0</th>\n",
              "      <td>pde--10000000851</td>\n",
              "      <td>-10000000000034</td>\n",
              "      <td>00136680141</td>\n",
              "      <td>2012-05-25</td>\n",
              "    </tr>\n",
              "    <tr>\n",
              "      <th>1</th>\n",
              "      <td>pde--10000001698</td>\n",
              "      <td>-10000000000070</td>\n",
              "      <td>49999099310</td>\n",
              "      <td>2012-01-13</td>\n",
              "    </tr>\n",
              "    <tr>\n",
              "      <th>2</th>\n",
              "      <td>pde--10000001698</td>\n",
              "      <td>-10000000000070</td>\n",
              "      <td>49999099310</td>\n",
              "      <td>2012-01-13</td>\n",
              "    </tr>\n",
              "    <tr>\n",
              "      <th>3</th>\n",
              "      <td>pde--10000001699</td>\n",
              "      <td>-10000000000070</td>\n",
              "      <td>54569346700</td>\n",
              "      <td>2012-07-06</td>\n",
              "    </tr>\n",
              "    <tr>\n",
              "      <th>4</th>\n",
              "      <td>pde--10000001699</td>\n",
              "      <td>-10000000000070</td>\n",
              "      <td>54569346700</td>\n",
              "      <td>2012-07-06</td>\n",
              "    </tr>\n",
              "  </tbody>\n",
              "</table>\n",
              "</div>"
            ],
            "text/plain": [
              "             eob_id          patient    first_ndc serviced_date\n",
              "0  pde--10000000851  -10000000000034  00136680141    2012-05-25\n",
              "1  pde--10000001698  -10000000000070  49999099310    2012-01-13\n",
              "2  pde--10000001698  -10000000000070  49999099310    2012-01-13\n",
              "3  pde--10000001699  -10000000000070  54569346700    2012-07-06\n",
              "4  pde--10000001699  -10000000000070  54569346700    2012-07-06"
            ]
          },
          "execution_count": 41,
          "metadata": {},
          "output_type": "execute_result"
        }
      ],
      "source": [
        "%%bigquery\n",
        "SELECT * from fhir_views.eob_pde_codes_2012 limit 5;"
      ]
    },
    {
      "cell_type": "markdown",
      "metadata": {
        "id": "1pPeHV8xWEpi"
      },
      "source": [
        "Now that this view is in BigQuery, it can be queried from other places for dashboarding like Looker or DataStudio."
      ]
    },
    {
      "cell_type": "markdown",
      "metadata": {
        "id": "OxSfx80PWEpi"
      },
      "source": [
        "### Most common PDEs\n",
        "\n",
        "Let's use the views we've created to look at the most common PDEs in 2012."
      ]
    },
    {
      "cell_type": "code",
      "execution_count": null,
      "metadata": {
        "id": "OezfQP7dID91"
      },
      "outputs": [],
      "source": [
        "eob_pde_codes_2012_df = runner.to_dataframe(eob_pde_codes_2012)\n",
        "grouped = eob_pde_codes_2012_df.groupby('first_ndc')['first_ndc'].count().reset_index(name='count')\n",
        "eobs_grouped_and_sorted = grouped.sort_values('count', ascending=False)[:10]"
      ]
    },
    {
      "cell_type": "code",
      "execution_count": null,
      "metadata": {
        "id": "pAcOLY-fWEpi",
        "outputId": "5db970e4-553f-4218-b032-17f32bcd7990"
      },
      "outputs": [
        {
          "data": {
            "text/plain": [
              "<AxesSubplot:title={'center':'2012 Most Frequent PDE Drugs'}, xlabel='NDC', ylabel='Count'>"
            ]
          },
          "execution_count": 10,
          "metadata": {},
          "output_type": "execute_result"
        },
        {
          "data": {
            "image/png": "[encoded data removed]",
            "text/plain": [
              "<Figure size 576x360 with 1 Axes>"
            ]
          },
          "metadata": {
            "needs_background": "light"
          },
          "output_type": "display_data"
        }
      ],
      "source": [
        "eobs_grouped_and_sorted.plot.bar(\n",
        "    x='first_ndc', \n",
        "    title=\"2012 Most Frequent PDE Drugs\", \n",
        "    ylabel=\"Count\", \n",
        "    xlabel=\"NDC\", \n",
        "    figsize=(8,5))"
      ]
    },
    {
      "cell_type": "markdown",
      "metadata": {
        "id": "rVR66-ChWEpj"
      },
      "source": [
        "### Patients with the Most PDEs in 2012"
      ]
    },
    {
      "cell_type": "code",
      "execution_count": null,
      "metadata": {
        "id": "YkQkwnntWEpj",
        "outputId": "aa92352f-307e-49c4-c625-7f412e7f80ce"
      },
      "outputs": [
        {
          "data": {
            "text/html": [
              "<div>\n",
              "<style scoped>\n",
              "    .dataframe tbody tr th:only-of-type {\n",
              "        vertical-align: middle;\n",
              "    }\n",
              "\n",
              "    .dataframe tbody tr th {\n",
              "        vertical-align: top;\n",
              "    }\n",
              "\n",
              "    .dataframe thead th {\n",
              "        text-align: right;\n",
              "    }\n",
              "</style>\n",
              "<table border=\"1\" class=\"dataframe\">\n",
              "  <thead>\n",
              "    <tr style=\"text-align: right;\">\n",
              "      <th></th>\n",
              "      <th>patient</th>\n",
              "      <th>count</th>\n",
              "    </tr>\n",
              "  </thead>\n",
              "  <tbody>\n",
              "    <tr>\n",
              "      <th>3752</th>\n",
              "      <td>-10000000008485</td>\n",
              "      <td>320</td>\n",
              "    </tr>\n",
              "    <tr>\n",
              "      <th>1412</th>\n",
              "      <td>-10000000003192</td>\n",
              "      <td>256</td>\n",
              "    </tr>\n",
              "    <tr>\n",
              "      <th>1833</th>\n",
              "      <td>-10000000004122</td>\n",
              "      <td>246</td>\n",
              "    </tr>\n",
              "    <tr>\n",
              "      <th>129</th>\n",
              "      <td>-10000000000307</td>\n",
              "      <td>244</td>\n",
              "    </tr>\n",
              "    <tr>\n",
              "      <th>2119</th>\n",
              "      <td>-10000000004810</td>\n",
              "      <td>200</td>\n",
              "    </tr>\n",
              "    <tr>\n",
              "      <th>471</th>\n",
              "      <td>-10000000001065</td>\n",
              "      <td>176</td>\n",
              "    </tr>\n",
              "    <tr>\n",
              "      <th>2233</th>\n",
              "      <td>-10000000005053</td>\n",
              "      <td>168</td>\n",
              "    </tr>\n",
              "    <tr>\n",
              "      <th>35</th>\n",
              "      <td>-10000000000076</td>\n",
              "      <td>160</td>\n",
              "    </tr>\n",
              "    <tr>\n",
              "      <th>3737</th>\n",
              "      <td>-10000000008459</td>\n",
              "      <td>152</td>\n",
              "    </tr>\n",
              "    <tr>\n",
              "      <th>2956</th>\n",
              "      <td>-10000000006706</td>\n",
              "      <td>152</td>\n",
              "    </tr>\n",
              "  </tbody>\n",
              "</table>\n",
              "</div>"
            ],
            "text/plain": [
              "              patient  count\n",
              "3752  -10000000008485    320\n",
              "1412  -10000000003192    256\n",
              "1833  -10000000004122    246\n",
              "129   -10000000000307    244\n",
              "2119  -10000000004810    200\n",
              "471   -10000000001065    176\n",
              "2233  -10000000005053    168\n",
              "35    -10000000000076    160\n",
              "3737  -10000000008459    152\n",
              "2956  -10000000006706    152"
            ]
          },
          "execution_count": 11,
          "metadata": {},
          "output_type": "execute_result"
        }
      ],
      "source": [
        "eob_pde_codes_2012_df.groupby('patient')['patient'].count().reset_index(name='count').sort_values('count', ascending=False)[:10]"
      ]
    },
    {
      "cell_type": "markdown",
      "metadata": {
        "id": "c19fHuRFWEpj"
      },
      "source": [
        "### Outpatient Procedures (in 2012)\n",
        "Let's look at the most common primary outpatient procedures in 2012."
      ]
    },
    {
      "cell_type": "code",
      "execution_count": null,
      "metadata": {
        "id": "5ZLOky7oWEpj",
        "outputId": "a01cae95-dc4e-47ad-8208-612ef088662c"
      },
      "outputs": [
        {
          "data": {
            "text/html": [
              "<div>\n",
              "<style scoped>\n",
              "    .dataframe tbody tr th:only-of-type {\n",
              "        vertical-align: middle;\n",
              "    }\n",
              "\n",
              "    .dataframe tbody tr th {\n",
              "        vertical-align: top;\n",
              "    }\n",
              "\n",
              "    .dataframe thead th {\n",
              "        text-align: right;\n",
              "    }\n",
              "</style>\n",
              "<table border=\"1\" class=\"dataframe\">\n",
              "  <thead>\n",
              "    <tr style=\"text-align: right;\">\n",
              "      <th></th>\n",
              "      <th>eob_id</th>\n",
              "      <th>patient</th>\n",
              "      <th>first_procedure_code</th>\n",
              "      <th>first_procedure_date</th>\n",
              "    </tr>\n",
              "  </thead>\n",
              "  <tbody>\n",
              "    <tr>\n",
              "      <th>0</th>\n",
              "      <td>outpatient--10000002743029</td>\n",
              "      <td>-10000000008606</td>\n",
              "      <td>0D9K3ZX</td>\n",
              "      <td>2012-06-16 04:00:00+00:00</td>\n",
              "    </tr>\n",
              "    <tr>\n",
              "      <th>1</th>\n",
              "      <td>outpatient--10000001805288</td>\n",
              "      <td>-10000000005745</td>\n",
              "      <td>0DBK0ZX</td>\n",
              "      <td>2012-10-03 04:00:00+00:00</td>\n",
              "    </tr>\n",
              "    <tr>\n",
              "      <th>2</th>\n",
              "      <td>outpatient--10000003110527</td>\n",
              "      <td>-10000000009804</td>\n",
              "      <td>0D9L0ZX</td>\n",
              "      <td>2012-07-14 04:00:00+00:00</td>\n",
              "    </tr>\n",
              "    <tr>\n",
              "      <th>3</th>\n",
              "      <td>outpatient--10000003110530</td>\n",
              "      <td>-10000000009804</td>\n",
              "      <td>0D9L0ZX</td>\n",
              "      <td>2012-07-14 04:00:00+00:00</td>\n",
              "    </tr>\n",
              "    <tr>\n",
              "      <th>4</th>\n",
              "      <td>outpatient--10000000300731</td>\n",
              "      <td>-10000000000956</td>\n",
              "      <td>09JY4ZZ</td>\n",
              "      <td>2012-04-17 04:00:00+00:00</td>\n",
              "    </tr>\n",
              "    <tr>\n",
              "      <th>...</th>\n",
              "      <td>...</td>\n",
              "      <td>...</td>\n",
              "      <td>...</td>\n",
              "      <td>...</td>\n",
              "    </tr>\n",
              "    <tr>\n",
              "      <th>4003</th>\n",
              "      <td>outpatient--10000001833122</td>\n",
              "      <td>-10000000005817</td>\n",
              "      <td>09JY4ZZ</td>\n",
              "      <td>2012-03-06 05:00:00+00:00</td>\n",
              "    </tr>\n",
              "    <tr>\n",
              "      <th>4004</th>\n",
              "      <td>outpatient--10000001833179</td>\n",
              "      <td>-10000000005817</td>\n",
              "      <td>09JY4ZZ</td>\n",
              "      <td>2012-03-06 05:00:00+00:00</td>\n",
              "    </tr>\n",
              "    <tr>\n",
              "      <th>4005</th>\n",
              "      <td>outpatient--10000001833003</td>\n",
              "      <td>-10000000005817</td>\n",
              "      <td>09JY4ZZ</td>\n",
              "      <td>2012-03-06 05:00:00+00:00</td>\n",
              "    </tr>\n",
              "    <tr>\n",
              "      <th>4006</th>\n",
              "      <td>outpatient--10000001833118</td>\n",
              "      <td>-10000000005817</td>\n",
              "      <td>09JY4ZZ</td>\n",
              "      <td>2012-03-06 05:00:00+00:00</td>\n",
              "    </tr>\n",
              "    <tr>\n",
              "      <th>4007</th>\n",
              "      <td>outpatient--10000002691750</td>\n",
              "      <td>-10000000008482</td>\n",
              "      <td>0VB08ZX</td>\n",
              "      <td>2012-04-12 04:00:00+00:00</td>\n",
              "    </tr>\n",
              "  </tbody>\n",
              "</table>\n",
              "<p>4008 rows × 4 columns</p>\n",
              "</div>"
            ],
            "text/plain": [
              "                          eob_id          patient first_procedure_code  \\\n",
              "0     outpatient--10000002743029  -10000000008606              0D9K3ZX   \n",
              "1     outpatient--10000001805288  -10000000005745              0DBK0ZX   \n",
              "2     outpatient--10000003110527  -10000000009804              0D9L0ZX   \n",
              "3     outpatient--10000003110530  -10000000009804              0D9L0ZX   \n",
              "4     outpatient--10000000300731  -10000000000956              09JY4ZZ   \n",
              "...                          ...              ...                  ...   \n",
              "4003  outpatient--10000001833122  -10000000005817              09JY4ZZ   \n",
              "4004  outpatient--10000001833179  -10000000005817              09JY4ZZ   \n",
              "4005  outpatient--10000001833003  -10000000005817              09JY4ZZ   \n",
              "4006  outpatient--10000001833118  -10000000005817              09JY4ZZ   \n",
              "4007  outpatient--10000002691750  -10000000008482              0VB08ZX   \n",
              "\n",
              "          first_procedure_date  \n",
              "0    2012-06-16 04:00:00+00:00  \n",
              "1    2012-10-03 04:00:00+00:00  \n",
              "2    2012-07-14 04:00:00+00:00  \n",
              "3    2012-07-14 04:00:00+00:00  \n",
              "4    2012-04-17 04:00:00+00:00  \n",
              "...                        ...  \n",
              "4003 2012-03-06 05:00:00+00:00  \n",
              "4004 2012-03-06 05:00:00+00:00  \n",
              "4005 2012-03-06 05:00:00+00:00  \n",
              "4006 2012-03-06 05:00:00+00:00  \n",
              "4007 2012-04-12 04:00:00+00:00  \n",
              "\n",
              "[4008 rows x 4 columns]"
            ]
          },
          "execution_count": 43,
          "metadata": {},
          "output_type": "execute_result"
        }
      ],
      "source": [
        "outpatient_claims_valueset = r4.value_set('urn:example:valueset:outpatient_claims').with_codes(\n",
        "    'https://bluebutton.cms.gov/resources/codesystem/eob-type', ['OUTPATIENT']).build()\n",
        "sys = 'http://hl7.org/fhir/sid/icd-10'\n",
        "coding = views.expression_for('Coding')\n",
        "\n",
        "eob_outpatient_proc_codes = (\n",
        "    eob.select({\n",
        "        'eob_id': eob.id,\n",
        "        'patient': eob.patient.idFor('Patient'),\n",
        "        'first_procedure_code': (eob.procedure.first().procedure.ofType('CodeableConcept').coding\n",
        "                                 .where(coding.system == 'http://hl7.org/fhir/sid/icd-10').code.first()),\n",
        "        'first_procedure_date': eob.procedure.first().date,\n",
        "    }).where(eob.type.memberOf(outpatient_claims_valueset), eob.procedure.exists()))\n",
        "\n",
        "eob_outpatient_proc_codes_2012 = eob_outpatient_proc_codes.where(\n",
        "    eob_outpatient_proc_codes.first_procedure_date >= datetime.date(2012,1,1), \n",
        "    eob_outpatient_proc_codes.first_procedure_date < datetime.date(2013,1,1))\n",
        "\n",
        "eob_outpatient_proc_codes_2012_df = runner.to_dataframe(eob_outpatient_proc_codes_2012)\n",
        "eob_outpatient_proc_codes_2012_df"
      ]
    },
    {
      "cell_type": "code",
      "execution_count": null,
      "metadata": {
        "id": "l-teRtGTWEpj",
        "outputId": "1ea79037-dc5b-4095-ec4b-0d4bb6765256"
      },
      "outputs": [
        {
          "data": {
            "text/html": [
              "<style type=\"text/css\">\n",
              "</style>\n",
              "<table id=\"T_4b816_\">\n",
              "  <caption>Most common Procedures in 2012</caption>\n",
              "  <thead>\n",
              "    <tr>\n",
              "      <th class=\"blank level0\" >&nbsp;</th>\n",
              "      <th class=\"col_heading level0 col0\" >first_procedure_code</th>\n",
              "      <th class=\"col_heading level0 col1\" >count</th>\n",
              "    </tr>\n",
              "  </thead>\n",
              "  <tbody>\n",
              "    <tr>\n",
              "      <th id=\"T_4b816_level0_row0\" class=\"row_heading level0 row0\" >11</th>\n",
              "      <td id=\"T_4b816_row0_col0\" class=\"data row0 col0\" >0U2DXHZ</td>\n",
              "      <td id=\"T_4b816_row0_col1\" class=\"data row0 col1\" >824</td>\n",
              "    </tr>\n",
              "    <tr>\n",
              "      <th id=\"T_4b816_level0_row1\" class=\"row_heading level0 row1\" >29</th>\n",
              "      <td id=\"T_4b816_row1_col0\" class=\"data row1 col0\" >BW03ZZZ</td>\n",
              "      <td id=\"T_4b816_row1_col1\" class=\"data row1 col1\" >542</td>\n",
              "    </tr>\n",
              "    <tr>\n",
              "      <th id=\"T_4b816_level0_row2\" class=\"row_heading level0 row2\" >0</th>\n",
              "      <td id=\"T_4b816_row2_col0\" class=\"data row2 col0\" >09JY4ZZ</td>\n",
              "      <td id=\"T_4b816_row2_col1\" class=\"data row2 col1\" >508</td>\n",
              "    </tr>\n",
              "    <tr>\n",
              "      <th id=\"T_4b816_level0_row3\" class=\"row_heading level0 row3\" >22</th>\n",
              "      <td id=\"T_4b816_row3_col0\" class=\"data row3 col0\" >0VB08ZX</td>\n",
              "      <td id=\"T_4b816_row3_col1\" class=\"data row3 col1\" >498</td>\n",
              "    </tr>\n",
              "    <tr>\n",
              "      <th id=\"T_4b816_level0_row4\" class=\"row_heading level0 row4\" >23</th>\n",
              "      <td id=\"T_4b816_row4_col0\" class=\"data row4 col0\" >0VB08ZZ</td>\n",
              "      <td id=\"T_4b816_row4_col1\" class=\"data row4 col1\" >289</td>\n",
              "    </tr>\n",
              "    <tr>\n",
              "      <th id=\"T_4b816_level0_row5\" class=\"row_heading level0 row5\" >10</th>\n",
              "      <td id=\"T_4b816_row5_col0\" class=\"data row5 col0\" >0DBM7ZX</td>\n",
              "      <td id=\"T_4b816_row5_col1\" class=\"data row5 col1\" >160</td>\n",
              "    </tr>\n",
              "    <tr>\n",
              "      <th id=\"T_4b816_level0_row6\" class=\"row_heading level0 row6\" >19</th>\n",
              "      <td id=\"T_4b816_row6_col0\" class=\"data row6 col0\" >0VB03ZZ</td>\n",
              "      <td id=\"T_4b816_row6_col1\" class=\"data row6 col1\" >120</td>\n",
              "    </tr>\n",
              "    <tr>\n",
              "      <th id=\"T_4b816_level0_row7\" class=\"row_heading level0 row7\" >24</th>\n",
              "      <td id=\"T_4b816_row7_col0\" class=\"data row7 col0\" >0VC07ZZ</td>\n",
              "      <td id=\"T_4b816_row7_col1\" class=\"data row7 col1\" >120</td>\n",
              "    </tr>\n",
              "    <tr>\n",
              "      <th id=\"T_4b816_level0_row8\" class=\"row_heading level0 row8\" >16</th>\n",
              "      <td id=\"T_4b816_row8_col0\" class=\"data row8 col0\" >0V908ZX</td>\n",
              "      <td id=\"T_4b816_row8_col1\" class=\"data row8 col1\" >115</td>\n",
              "    </tr>\n",
              "    <tr>\n",
              "      <th id=\"T_4b816_level0_row9\" class=\"row_heading level0 row9\" >21</th>\n",
              "      <td id=\"T_4b816_row9_col0\" class=\"data row9 col0\" >0VB07ZX</td>\n",
              "      <td id=\"T_4b816_row9_col1\" class=\"data row9 col1\" >102</td>\n",
              "    </tr>\n",
              "    <tr>\n",
              "      <th id=\"T_4b816_level0_row10\" class=\"row_heading level0 row10\" >2</th>\n",
              "      <td id=\"T_4b816_row10_col0\" class=\"data row10 col0\" >0D9L0ZX</td>\n",
              "      <td id=\"T_4b816_row10_col1\" class=\"data row10 col1\" >99</td>\n",
              "    </tr>\n",
              "    <tr>\n",
              "      <th id=\"T_4b816_level0_row11\" class=\"row_heading level0 row11\" >14</th>\n",
              "      <td id=\"T_4b816_row11_col0\" class=\"data row11 col0\" >0V904ZX</td>\n",
              "      <td id=\"T_4b816_row11_col1\" class=\"data row11 col1\" >85</td>\n",
              "    </tr>\n",
              "    <tr>\n",
              "      <th id=\"T_4b816_level0_row12\" class=\"row_heading level0 row12\" >26</th>\n",
              "      <td id=\"T_4b816_row12_col0\" class=\"data row12 col0\" >B245ZZ3</td>\n",
              "      <td id=\"T_4b816_row12_col1\" class=\"data row12 col1\" >81</td>\n",
              "    </tr>\n",
              "    <tr>\n",
              "      <th id=\"T_4b816_level0_row13\" class=\"row_heading level0 row13\" >5</th>\n",
              "      <td id=\"T_4b816_row13_col0\" class=\"data row13 col0\" >0DBK0ZX</td>\n",
              "      <td id=\"T_4b816_row13_col1\" class=\"data row13 col1\" >74</td>\n",
              "    </tr>\n",
              "    <tr>\n",
              "      <th id=\"T_4b816_level0_row14\" class=\"row_heading level0 row14\" >6</th>\n",
              "      <td id=\"T_4b816_row14_col0\" class=\"data row14 col0\" >0DBK3ZX</td>\n",
              "      <td id=\"T_4b816_row14_col1\" class=\"data row14 col1\" >68</td>\n",
              "    </tr>\n",
              "    <tr>\n",
              "      <th id=\"T_4b816_level0_row15\" class=\"row_heading level0 row15\" >4</th>\n",
              "      <td id=\"T_4b816_row15_col0\" class=\"data row15 col0\" >0D9M3ZX</td>\n",
              "      <td id=\"T_4b816_row15_col1\" class=\"data row15 col1\" >58</td>\n",
              "    </tr>\n",
              "    <tr>\n",
              "      <th id=\"T_4b816_level0_row16\" class=\"row_heading level0 row16\" >9</th>\n",
              "      <td id=\"T_4b816_row16_col0\" class=\"data row16 col0\" >0DBM3ZX</td>\n",
              "      <td id=\"T_4b816_row16_col1\" class=\"data row16 col1\" >57</td>\n",
              "    </tr>\n",
              "    <tr>\n",
              "      <th id=\"T_4b816_level0_row17\" class=\"row_heading level0 row17\" >18</th>\n",
              "      <td id=\"T_4b816_row17_col0\" class=\"data row17 col0\" >0VB03ZX</td>\n",
              "      <td id=\"T_4b816_row17_col1\" class=\"data row17 col1\" >50</td>\n",
              "    </tr>\n",
              "    <tr>\n",
              "      <th id=\"T_4b816_level0_row18\" class=\"row_heading level0 row18\" >17</th>\n",
              "      <td id=\"T_4b816_row18_col0\" class=\"data row18 col0\" >0VB00ZX</td>\n",
              "      <td id=\"T_4b816_row18_col1\" class=\"data row18 col1\" >46</td>\n",
              "    </tr>\n",
              "    <tr>\n",
              "      <th id=\"T_4b816_level0_row19\" class=\"row_heading level0 row19\" >8</th>\n",
              "      <td id=\"T_4b816_row19_col0\" class=\"data row19 col0\" >0DBM0ZX</td>\n",
              "      <td id=\"T_4b816_row19_col1\" class=\"data row19 col1\" >24</td>\n",
              "    </tr>\n",
              "    <tr>\n",
              "      <th id=\"T_4b816_level0_row20\" class=\"row_heading level0 row20\" >3</th>\n",
              "      <td id=\"T_4b816_row20_col0\" class=\"data row20 col0\" >0D9M0ZX</td>\n",
              "      <td id=\"T_4b816_row20_col1\" class=\"data row20 col1\" >22</td>\n",
              "    </tr>\n",
              "    <tr>\n",
              "      <th id=\"T_4b816_level0_row21\" class=\"row_heading level0 row21\" >7</th>\n",
              "      <td id=\"T_4b816_row21_col0\" class=\"data row21 col0\" >0DBL3ZX</td>\n",
              "      <td id=\"T_4b816_row21_col1\" class=\"data row21 col1\" >18</td>\n",
              "    </tr>\n",
              "    <tr>\n",
              "      <th id=\"T_4b816_level0_row22\" class=\"row_heading level0 row22\" >25</th>\n",
              "      <td id=\"T_4b816_row22_col0\" class=\"data row22 col0\" >0VC08ZZ</td>\n",
              "      <td id=\"T_4b816_row22_col1\" class=\"data row22 col1\" >15</td>\n",
              "    </tr>\n",
              "    <tr>\n",
              "      <th id=\"T_4b816_level0_row23\" class=\"row_heading level0 row23\" >1</th>\n",
              "      <td id=\"T_4b816_row23_col0\" class=\"data row23 col0\" >0D9K3ZX</td>\n",
              "      <td id=\"T_4b816_row23_col1\" class=\"data row23 col1\" >10</td>\n",
              "    </tr>\n",
              "    <tr>\n",
              "      <th id=\"T_4b816_level0_row24\" class=\"row_heading level0 row24\" >15</th>\n",
              "      <td id=\"T_4b816_row24_col0\" class=\"data row24 col0\" >0V907ZX</td>\n",
              "      <td id=\"T_4b816_row24_col1\" class=\"data row24 col1\" >10</td>\n",
              "    </tr>\n",
              "    <tr>\n",
              "      <th id=\"T_4b816_level0_row25\" class=\"row_heading level0 row25\" >27</th>\n",
              "      <td id=\"T_4b816_row25_col0\" class=\"data row25 col0\" >B24DZZ4</td>\n",
              "      <td id=\"T_4b816_row25_col1\" class=\"data row25 col1\" >5</td>\n",
              "    </tr>\n",
              "    <tr>\n",
              "      <th id=\"T_4b816_level0_row26\" class=\"row_heading level0 row26\" >20</th>\n",
              "      <td id=\"T_4b816_row26_col0\" class=\"data row26 col0\" >0VB04ZX</td>\n",
              "      <td id=\"T_4b816_row26_col1\" class=\"data row26 col1\" >2</td>\n",
              "    </tr>\n",
              "    <tr>\n",
              "      <th id=\"T_4b816_level0_row27\" class=\"row_heading level0 row27\" >13</th>\n",
              "      <td id=\"T_4b816_row27_col0\" class=\"data row27 col0\" >0V903ZX</td>\n",
              "      <td id=\"T_4b816_row27_col1\" class=\"data row27 col1\" >2</td>\n",
              "    </tr>\n",
              "    <tr>\n",
              "      <th id=\"T_4b816_level0_row28\" class=\"row_heading level0 row28\" >12</th>\n",
              "      <td id=\"T_4b816_row28_col0\" class=\"data row28 col0\" >0V900ZX</td>\n",
              "      <td id=\"T_4b816_row28_col1\" class=\"data row28 col1\" >2</td>\n",
              "    </tr>\n",
              "    <tr>\n",
              "      <th id=\"T_4b816_level0_row29\" class=\"row_heading level0 row29\" >28</th>\n",
              "      <td id=\"T_4b816_row29_col0\" class=\"data row29 col0\" >B24DZZZ</td>\n",
              "      <td id=\"T_4b816_row29_col1\" class=\"data row29 col1\" >2</td>\n",
              "    </tr>\n",
              "  </tbody>\n",
              "</table>\n"
            ],
            "text/plain": [
              "<pandas.io.formats.style.Styler at 0x7f3bc1dc9850>"
            ]
          },
          "execution_count": 32,
          "metadata": {},
          "output_type": "execute_result"
        }
      ],
      "source": [
        "# Let's look at the most common procedures in 2012\n",
        "(eob_outpatient_proc_codes_2012_df\n",
        " .groupby('first_procedure_code')['first_procedure_code']\n",
        " .count()\n",
        " .reset_index(name='count')\n",
        " .sort_values('count', ascending=False)\n",
        " .style.set_caption('Most common Procedures in 2012'))"
      ]
    },
    {
      "cell_type": "code",
      "execution_count": null,
      "metadata": {
        "id": "GIVeevnyWEpj",
        "outputId": "99703468-6898-4c8d-922b-4c04ede37f69"
      },
      "outputs": [
        {
          "data": {
            "text/html": [
              "<style type=\"text/css\">\n",
              "</style>\n",
              "<table id=\"T_cfa1a_\">\n",
              "  <caption>10 Patients with most procedures in 2012</caption>\n",
              "  <thead>\n",
              "    <tr>\n",
              "      <th class=\"blank level0\" >&nbsp;</th>\n",
              "      <th class=\"col_heading level0 col0\" >patient</th>\n",
              "      <th class=\"col_heading level0 col1\" >count</th>\n",
              "    </tr>\n",
              "  </thead>\n",
              "  <tbody>\n",
              "    <tr>\n",
              "      <th id=\"T_cfa1a_level0_row0\" class=\"row_heading level0 row0\" >68</th>\n",
              "      <td id=\"T_cfa1a_row0_col0\" class=\"data row0 col0\" >-10000000005704</td>\n",
              "      <td id=\"T_cfa1a_row0_col1\" class=\"data row0 col1\" >282</td>\n",
              "    </tr>\n",
              "    <tr>\n",
              "      <th id=\"T_cfa1a_level0_row1\" class=\"row_heading level0 row1\" >101</th>\n",
              "      <td id=\"T_cfa1a_row1_col0\" class=\"data row1 col0\" >-10000000008278</td>\n",
              "      <td id=\"T_cfa1a_row1_col1\" class=\"data row1 col1\" >249</td>\n",
              "    </tr>\n",
              "    <tr>\n",
              "      <th id=\"T_cfa1a_level0_row2\" class=\"row_heading level0 row2\" >70</th>\n",
              "      <td id=\"T_cfa1a_row2_col0\" class=\"data row2 col0\" >-10000000005817</td>\n",
              "      <td id=\"T_cfa1a_row2_col1\" class=\"data row2 col1\" >249</td>\n",
              "    </tr>\n",
              "    <tr>\n",
              "      <th id=\"T_cfa1a_level0_row3\" class=\"row_heading level0 row3\" >24</th>\n",
              "      <td id=\"T_cfa1a_row3_col0\" class=\"data row3 col0\" >-10000000002008</td>\n",
              "      <td id=\"T_cfa1a_row3_col1\" class=\"data row3 col1\" >177</td>\n",
              "    </tr>\n",
              "    <tr>\n",
              "      <th id=\"T_cfa1a_level0_row4\" class=\"row_heading level0 row4\" >98</th>\n",
              "      <td id=\"T_cfa1a_row4_col0\" class=\"data row4 col0\" >-10000000007972</td>\n",
              "      <td id=\"T_cfa1a_row4_col1\" class=\"data row4 col1\" >128</td>\n",
              "    </tr>\n",
              "    <tr>\n",
              "      <th id=\"T_cfa1a_level0_row5\" class=\"row_heading level0 row5\" >13</th>\n",
              "      <td id=\"T_cfa1a_row5_col0\" class=\"data row5 col0\" >-10000000001248</td>\n",
              "      <td id=\"T_cfa1a_row5_col1\" class=\"data row5 col1\" >121</td>\n",
              "    </tr>\n",
              "    <tr>\n",
              "      <th id=\"T_cfa1a_level0_row6\" class=\"row_heading level0 row6\" >0</th>\n",
              "      <td id=\"T_cfa1a_row6_col0\" class=\"data row6 col0\" >-10000000000076</td>\n",
              "      <td id=\"T_cfa1a_row6_col1\" class=\"data row6 col1\" >112</td>\n",
              "    </tr>\n",
              "    <tr>\n",
              "      <th id=\"T_cfa1a_level0_row7\" class=\"row_heading level0 row7\" >58</th>\n",
              "      <td id=\"T_cfa1a_row7_col0\" class=\"data row7 col0\" >-10000000004448</td>\n",
              "      <td id=\"T_cfa1a_row7_col1\" class=\"data row7 col1\" >105</td>\n",
              "    </tr>\n",
              "    <tr>\n",
              "      <th id=\"T_cfa1a_level0_row8\" class=\"row_heading level0 row8\" >4</th>\n",
              "      <td id=\"T_cfa1a_row8_col0\" class=\"data row8 col0\" >-10000000000325</td>\n",
              "      <td id=\"T_cfa1a_row8_col1\" class=\"data row8 col1\" >104</td>\n",
              "    </tr>\n",
              "    <tr>\n",
              "      <th id=\"T_cfa1a_level0_row9\" class=\"row_heading level0 row9\" >118</th>\n",
              "      <td id=\"T_cfa1a_row9_col0\" class=\"data row9 col0\" >-10000000009487</td>\n",
              "      <td id=\"T_cfa1a_row9_col1\" class=\"data row9 col1\" >86</td>\n",
              "    </tr>\n",
              "  </tbody>\n",
              "</table>\n"
            ],
            "text/plain": [
              "<pandas.io.formats.style.Styler at 0x7f3b8d40d750>"
            ]
          },
          "execution_count": 37,
          "metadata": {},
          "output_type": "execute_result"
        }
      ],
      "source": [
        "# Let's look at patients with the most procedures in 2012\n",
        "proc_by_patient = (eob_outpatient_proc_codes_2012_df\n",
        " .groupby('patient')['patient']\n",
        " .count()\n",
        " .reset_index(name='count')\n",
        " .sort_values('count', ascending=False))\n",
        "proc_by_patient[:10].style.set_caption(\"10 Patients with most procedures in 2012\")"
      ]
    },
    {
      "cell_type": "markdown",
      "metadata": {
        "id": "QuXzILrdWEpj"
      },
      "source": [
        "## Outpatient Diagnoses\n",
        "\n",
        "Let's look at the most common principal diagnoses in our dataset."
      ]
    },
    {
      "cell_type": "code",
      "execution_count": null,
      "metadata": {
        "id": "295ezGFrWEpk"
      },
      "outputs": [],
      "source": [
        "outpatient_claims_valueset = r4.value_set('urn:example:valueset:outpatient_claims').with_codes(\n",
        "    'https://bluebutton.cms.gov/resources/codesystem/eob-type', ['OUTPATIENT']).build()\n",
        "\n",
        "principal_diagnosis_valueset = r4.value_set('urn:example:valueset:principal_diagnosis').with_codes(\n",
        "    'http://terminology.hl7.org/CodeSystem/ex-diagnosistype', ['principal']).build()\n",
        "\n",
        "is_principal_diagnosis = eob.diagnosis.type.memberOf(principal_diagnosis_valueset).anyTrue()\n",
        "coding = views.expression_for('Coding')  # shorthand for referring to \"coding\" fields in views below.\n",
        "\n",
        "eob_outpatient_codes = (\n",
        "    eob.select({\n",
        "        'eob_id': eob.id,\n",
        "        'patient': eob.patient.idFor('Patient'),\n",
        "        # Gets the first principal diagnosis's ICD-10 Code\n",
        "        'principal_diagnosis_icd10': eob.diagnosis.where(is_principal_diagnosis).first().diagnosis.ofType('CodeableConcept').coding.where(coding.system == 'http://hl7.org/fhir/sid/icd-10').code.first(),\n",
        "    }).where(eob.type.memberOf(outpatient_claims_valueset), is_principal_diagnosis))"
      ]
    },
    {
      "cell_type": "code",
      "execution_count": null,
      "metadata": {
        "id": "iNWxk9ILWEpk"
      },
      "outputs": [],
      "source": [
        "df = runner.to_dataframe(eob_outpatient_codes)"
      ]
    },
    {
      "cell_type": "code",
      "execution_count": null,
      "metadata": {
        "id": "dggX4yWeWEpk"
      },
      "outputs": [],
      "source": [
        "principal_dx = df.groupby('principal_diagnosis_icd10')['principal_diagnosis_icd10'].count().reset_index(name='count').sort_values('count', ascending=False)"
      ]
    },
    {
      "cell_type": "code",
      "execution_count": null,
      "metadata": {
        "id": "cYZbwjuTWEpk",
        "outputId": "30b15357-0d7d-47b7-c1c8-551ef2bd40d9"
      },
      "outputs": [
        {
          "data": {
            "text/html": [
              "<div>\n",
              "<style scoped>\n",
              "    .dataframe tbody tr th:only-of-type {\n",
              "        vertical-align: middle;\n",
              "    }\n",
              "\n",
              "    .dataframe tbody tr th {\n",
              "        vertical-align: top;\n",
              "    }\n",
              "\n",
              "    .dataframe thead th {\n",
              "        text-align: right;\n",
              "    }\n",
              "</style>\n",
              "<table border=\"1\" class=\"dataframe\">\n",
              "  <thead>\n",
              "    <tr style=\"text-align: right;\">\n",
              "      <th></th>\n",
              "      <th>principal_diagnosis_icd10</th>\n",
              "      <th>count</th>\n",
              "    </tr>\n",
              "  </thead>\n",
              "  <tbody>\n",
              "    <tr>\n",
              "      <th>34</th>\n",
              "      <td>E669</td>\n",
              "      <td>81993</td>\n",
              "    </tr>\n",
              "    <tr>\n",
              "      <th>35</th>\n",
              "      <td>E781</td>\n",
              "      <td>57951</td>\n",
              "    </tr>\n",
              "    <tr>\n",
              "      <th>36</th>\n",
              "      <td>E785</td>\n",
              "      <td>48231</td>\n",
              "    </tr>\n",
              "    <tr>\n",
              "      <th>17</th>\n",
              "      <td>D649</td>\n",
              "      <td>46314</td>\n",
              "    </tr>\n",
              "    <tr>\n",
              "      <th>89</th>\n",
              "      <td>J329</td>\n",
              "      <td>41546</td>\n",
              "    </tr>\n",
              "    <tr>\n",
              "      <th>33</th>\n",
              "      <td>E119</td>\n",
              "      <td>38068</td>\n",
              "    </tr>\n",
              "    <tr>\n",
              "      <th>131</th>\n",
              "      <td>O039</td>\n",
              "      <td>33194</td>\n",
              "    </tr>\n",
              "    <tr>\n",
              "      <th>162</th>\n",
              "      <td>R739</td>\n",
              "      <td>23805</td>\n",
              "    </tr>\n",
              "    <tr>\n",
              "      <th>55</th>\n",
              "      <td>I10</td>\n",
              "      <td>21655</td>\n",
              "    </tr>\n",
              "    <tr>\n",
              "      <th>136</th>\n",
              "      <td>P292</td>\n",
              "      <td>21477</td>\n",
              "    </tr>\n",
              "  </tbody>\n",
              "</table>\n",
              "</div>"
            ],
            "text/plain": [
              "    principal_diagnosis_icd10  count\n",
              "34                       E669  81993\n",
              "35                       E781  57951\n",
              "36                       E785  48231\n",
              "17                       D649  46314\n",
              "89                       J329  41546\n",
              "33                       E119  38068\n",
              "131                      O039  33194\n",
              "162                      R739  23805\n",
              "55                        I10  21655\n",
              "136                      P292  21477"
            ]
          },
          "execution_count": 17,
          "metadata": {},
          "output_type": "execute_result"
        }
      ],
      "source": [
        "top_10_principal_dx = principal_dx[:10]\n",
        "top_10_principal_dx"
      ]
    },
    {
      "cell_type": "code",
      "execution_count": null,
      "metadata": {
        "id": "LqkJx-3pWEpk",
        "outputId": "8f24595a-0153-4e63-d2ac-2db4f3d632fd"
      },
      "outputs": [
        {
          "data": {
            "text/plain": [
              "<AxesSubplot:title={'center':'Most Frequent Principal Diagnoses'}, xlabel='Diagnosis ICD10', ylabel='Count'>"
            ]
          },
          "execution_count": 42,
          "metadata": {},
          "output_type": "execute_result"
        },
        {
          "data": {
            "image/png": "[encoded data removed]",
            "text/plain": [
              "<Figure size 576x360 with 1 Axes>"
            ]
          },
          "metadata": {
            "needs_background": "light"
          },
          "output_type": "display_data"
        }
      ],
      "source": [
        "top_10_principal_dx.plot.bar(\n",
        "    x='principal_diagnosis_icd10', \n",
        "    title=\"Most Frequent Principal Diagnoses\", \n",
        "    ylabel=\"Count\", \n",
        "    xlabel=\"Diagnosis ICD10\", \n",
        "    figsize=(8,5))"
      ]
    },
    {
      "cell_type": "code",
      "execution_count": null,
      "metadata": {
        "id": "TsEVtR6qWEpk"
      },
      "outputs": [],
      "source": []
    }
  ],
  "metadata": {
    "colab": {
      "collapsed_sections": [],
      "provenance": []
    },
    "environment": {
      "kernel": "python3",
      "name": "common-cu101.m84",
      "type": "gcloud",
      "uri": "gcr.io/deeplearning-platform-release/base-cu101:m84"
    },
    "kernelspec": {
      "display_name": "Python 3",
      "language": "python",
      "name": "python3"
    },
    "language_info": {
      "codemirror_mode": {
        "name": "ipython",
        "version": 3
      },
      "file_extension": ".py",
      "mimetype": "text/x-python",
      "name": "python",
      "nbconvert_exporter": "python",
      "pygments_lexer": "ipython3",
      "version": "3.8.10"
    }
  },
  "nbformat": 4,
  "nbformat_minor": 0
}
