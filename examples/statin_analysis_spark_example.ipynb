{
  "cells": [
    {
      "cell_type": "markdown",
      "metadata": {
        "id": "xMyOEyv69eEO"
      },
      "source": [
        "# Data Exploration and Statin Analysis on FHIR\n",
        "This notebook shows a pattern to make FHIR data work well with the best available analytic tools. We'll use a [new Python library](https://github.com/google/fhir-py) to explore a complex dataset and build a simplified quality measure over it.\n",
        "\n",
        "[![Open In Colab](https://colab.research.google.com/assets/colab-badge.svg)](https://colab.research.google.com/github/google/fhir-py/blob/main/examples/statin_analysis_spark_example.ipynb) __(Synthetic data only--not HIPAA compliant)__\n",
        "\n",
        "\n",
        "## Flattened views of FHIR data\n",
        "Our approach is centered on creating simple, flat views of FHIR data that fit the problem at hand -- and works well with common analytic tools. This comes in four major parts: _view definitions_, _code value sets_, _view runners_, and of course your favorite analytic tools themselves.\n",
        "\n",
        "### View definitions\n",
        "Defines the fields and criteria for a tabular view of a given FHIR resource. Both of these come as [FHIRPath expressions](https://build.fhir.org/fhirpath.html) created with a guided builder in Python, including tab completion so users don't need to remember all of the resource fields for FHIRPath function names.\n",
        "\n",
        "Here is a simple example of a view. We'll see much more involved examples later in this notebook:\n",
        "\n",
        "```python\n",
        "pats = views.view_of('Patient')\n",
        "\n",
        "simple_patient_view = pats.select({\n",
        "    'id': pats.id,\n",
        "    'gender': pats.gender,\n",
        "    'birthdate': pats.birthDate\n",
        "    }).where(pats.birthDate \u003c datetime.datetime(1960, 1, 1))\n",
        "```\n",
        "\n",
        "### Value set content\n",
        "Code value sets are key piece of almost any meaningful analysis of healthcare data, so we support both retrieving FHIR value sets from a terminology server and using them in FHIRPath `memberOf` functions to define view columns and filters.\n",
        "\n",
        "### View runners\n",
        "A _view runner_ turns a view definition into actual data by querying some FHIR-based data source. In this example we will show the Spark runner. This will include the ability to use FHIR Views on any infrastructure, Google or otherwise.\n",
        "\n",
        "### Your favorite analytic tools\n",
        "The final part is your favorite analytic tools. FHIR views defined here simply get data into a tabular table, dataframe, or similar structure. From there users can more easily use analytic capabilities native to the underlying database, programming language, or analytic tools like [Data Studio](https://datastudio.google.com/). Examples of this are below.\n",
        "\n"
      ]
    },
    {
      "cell_type": "markdown",
      "metadata": {
        "id": "aaw1W6gSk7qa"
      },
      "source": [
        "## Installation\n",
        "If you have Python 3.8 or newer installed, this library can by installed from pypi by simply running:\n",
        "\n",
        "```\n",
        "pip install google-fhir-views[r4,spark]\n",
        "```\n",
        "\n",
        "It's recommended to do so *before* starting the notebook kernel to avoid any dependency version issues. \n",
        "\n",
        "If you are running in Vertex AI Workbench with an older version of Python you will need to upgrade then install. This can be done with the following commands in a terminal:\n",
        "\n",
        "\n",
        "```\n",
        "conda create -n python310 python=3.10 -y\n",
        "conda activate python310\n",
        "conda install ipykernel -y\n",
        "ipython kernel install --user --name=python310\n",
        "pip install google-fhir-views[r4,spark]\n",
        "\n",
        "```\n",
        "\n",
        "Running the cell below will attempt to install the libraries in your notebook environment, after which you will need to manually restart the kernel."
      ]
    },
    {
      "cell_type": "code",
      "execution_count": null,
      "metadata": {
        "id": "9uRrH6zbBQEi"
      },
      "outputs": [],
      "source": [
        "!pip install google-fhir-views[r4,spark]\n",
        "!pip install google-cloud-bigquery"
      ]
    },
    {
      "cell_type": "markdown",
      "metadata": {
        "id": "g0PAFuWUltWX"
      },
      "source": [
        "# Setup and Authentication\n",
        "\n",
        "Users of this notebook will need to have a running\n",
        "[Hive Thriftserver](https://spark.apache.org/docs/latest/sql-distributed-sql-engine.html#running-the-thrift-jdbcodbc-server)\n",
        "endpoint to connect to. For this notebook, we run our analysis on exported\n",
        "Parquet files of the\n",
        "[Synthea Generated Synthetic Dataset](https://console.cloud.google.com/marketplace/product/mitre/synthea-fhir)\n",
        "on BigQuery. You will need to assign your GCP user account with the BigQuery\n",
        "User, BigQuery Data Viewer, and Storage Admin roles to export the files from\n",
        "BigQuery to your local machine.\n",
        "\n",
        "**Note**: Parquet files can also be generated directly from FHIR resources using\n",
        "the [fhir-data-pipes](https://github.com/google/fhir-data-pipes) repository.\n",
        "\n",
        "If you are using Colab, running the cell below should retrieve your user\n",
        "credentials:"
      ]
    },
    {
      "cell_type": "code",
      "execution_count": null,
      "metadata": {
        "id": "-IsNR4jrNgyp"
      },
      "outputs": [],
      "source": [
        "if 'google.colab' in str(get_ipython()):\n",
        "  print('NOTE: COLAB IS NOT HIPAA ELIGIBLE, please only continue with synthetic data.')\n",
        "  from google.colab import auth\n",
        "  auth.authenticate_user()\n",
        "  print('Authenticated')"
      ]
    },
    {
      "cell_type": "markdown",
      "metadata": {
        "id": "1yyjgV44Qw8n"
      },
      "source": [
        "The cell below exports the synthetic dataset from BigQuery to your GCS bucket:"
      ]
    },
    {
      "cell_type": "code",
      "execution_count": null,
      "metadata": {
        "id": "fKU9VKj9NI4o"
      },
      "outputs": [],
      "source": [
        "from google.cloud import bigquery\n",
        "\n",
        "# Your project id\n",
        "project = 'fhir-analytics-test'  # @param {type:\"string\"}\n",
        "\n",
        "# The name of your GCS bucket\n",
        "bucket_name = 'my-bucket'  # @param {type:\"string\"}\n",
        "\n",
        "bq_client = bigquery.Client(project)\n",
        "\n",
        "dataset_ref = bigquery.DatasetReference('bigquery-public-data', 'fhir_synthea')\n",
        "table_ids_for_export = ['patient', 'condition', 'observation']\n",
        "\n",
        "\n",
        "for table_id in table_ids_for_export:\n",
        "  destination_uri = 'gs://{}/{}'.format(bucket_name, f'{table_id}')\n",
        "  extract_job = bq_client.extract_table(\n",
        "      source=dataset_ref.table(table_id),\n",
        "      destination_uris=destination_uri,\n",
        "      # Source table stored in US location.\n",
        "      location='US',\n",
        "      job_config=bigquery.job.ExtractJobConfig(\n",
        "          destination_format='PARQUET',\n",
        "          compression='GZIP',\n",
        "      ),\n",
        "  )\n",
        "  extract_job.result()"
      ]
    },
    {
      "cell_type": "markdown",
      "metadata": {
        "id": "78R4bxgZRFNG"
      },
      "source": [
        "Tne next cell dowloads the parquet files stored in the GCS bucket to your local machine, so it can be loaded into the local Spark ThriftServer."
      ]
    },
    {
      "cell_type": "code",
      "execution_count": null,
      "metadata": {
        "id": "AdFPOdgNMiXz"
      },
      "outputs": [],
      "source": [
        "# The path to which the parquet files should be downloaded\n",
        "destination_directory_path = \"/tmp/\" #@param {type:\"string\"}\n",
        "\n",
        "!gsutil -m cp -r gs://{bucket_name}/* {destination_directory_path}"
      ]
    },
    {
      "cell_type": "markdown",
      "metadata": {
        "id": "ofn5MXywR6Rx"
      },
      "source": [
        "## Environment setup\n",
        "This notebook creates Spark views and tables for analysis, and a dataset you can write for the later notebook cells that save data for analysis. This notebook will attempt to create a `statin_analysis_example` dataset if it does not already exist.\n",
        "\n",
        "The cell below sets up the Spark client and creates a new dataset that will be used for this analysis. It also creates a Spark view \"runner\", which is used to apply declarative views of FHIR in Spark. Examples of using it are below."
      ]
    },
    {
      "cell_type": "code",
      "execution_count": null,
      "metadata": {
        "id": "4uLHjJK_kY0w"
      },
      "outputs": [],
      "source": [
        "import pandas\n",
        "\n",
        "from sqlalchemy import dialects\n",
        "from sqlalchemy import engine\n",
        "\n",
        "from google.fhir.views import r4\n",
        "from google.fhir.views import spark_runner\n",
        "\n",
        "# The Spark dataset containing FHIR data. This may be read-only to the user.\n",
        "fhir_dataset = 'default'\n",
        "\n",
        "# The Spark dataset where we will create views, value sets, and other derived tables\n",
        "# as needed. This must be writeable by the user. This will use the default project\n",
        "# where this notebook is running.\n",
        "analysis_dataset = 'statin_analysis_example'\n",
        "\n",
        "dialects.registry.register('hive', 'pyhive.sqlalchemy_hive', 'HiveDialect')\n",
        "\n",
        "# The endpoint of the Hive ThriftServer to connect to\n",
        "query_engine = engine.create_engine('hive://localhost:10001/default')\n",
        "\n",
        "# Create a runner to execute the views over Spark.\n",
        "runner = spark_runner.SparkRunner(\n",
        "    query_engine=query_engine,\n",
        "    fhir_dataset=fhir_dataset,\n",
        "    view_dataset=analysis_dataset,\n",
        "    snake_case_resource_tables=True,\n",
        ")"
      ]
    },
    {
      "cell_type": "markdown",
      "metadata": {
        "id": "RmajToBKR6mw"
      },
      "source": [
        "The cell below loads the parquet files we've downloaded into our Spark ThriftServer:"
      ]
    },
    {
      "cell_type": "code",
      "execution_count": null,
      "metadata": {
        "id": "aaLNe7ObBs36"
      },
      "outputs": [],
      "source": [
        "with query_engine.connect() as curs:\n",
        "  curs.execute(f'DROP TABLE IF EXISTS {fhir_dataset}.condition;')\n",
        "  curs.execute(f'DROP TABLE IF EXISTS {fhir_dataset}.medication_request;')\n",
        "  curs.execute(f'DROP TABLE IF EXISTS {fhir_dataset}.observation;')\n",
        "  curs.execute(f'DROP TABLE IF EXISTS {fhir_dataset}.patient;')\n",
        "  curs.execute(\n",
        "      f'CREATE TABLE IF NOT EXISTS {fhir_dataset}.condition USING PARQUET'\n",
        "      f\" LOCATION '{destination_directory_path}/condition*';\"\n",
        "  )\n",
        "  curs.execute(\n",
        "      f'CREATE TABLE IF NOT EXISTS {fhir_dataset}.medication_request USING'\n",
        "      f\" PARQUET LOCATION '{destination_directory_path}/medication_request*';\"\n",
        "  )\n",
        "  curs.execute(\n",
        "      f'CREATE TABLE IF NOT EXISTS {fhir_dataset}.observation USING PARQUET'\n",
        "      f\" LOCATION '{destination_directory_path}/observation*';\"\n",
        "  )\n",
        "  curs.execute(\n",
        "      f'CREATE TABLE IF NOT EXISTS {fhir_dataset}.patient USING PARQUET'\n",
        "      f\" LOCATION '{destination_directory_path}/patient*';\"\n",
        "  )\n",
        "\n",
        "  curs.execute(f'DROP DATABASE IF EXISTS {analysis_dataset} CASCADE;')\n",
        "  curs.execute(f'CREATE DATABASE IF NOT EXISTS {analysis_dataset};')"
      ]
    },
    {
      "cell_type": "markdown",
      "metadata": {
        "id": "mR5s6IO98I5R"
      },
      "source": [
        "# Explore the data\n",
        "Getting a general feeling for the data is an important first step in any analysis. So let's create some views of FHIR resources and take a look at common fields. Note that the results of this notebook are very similar to the BigQuery notebook. Being able to define views independent of the runner is one of the main advantages of using FHIR Views."
      ]
    },
    {
      "cell_type": "code",
      "execution_count": null,
      "metadata": {
        "id": "CUL5shxQactX"
      },
      "outputs": [],
      "source": [
        "# Load views based on the base FHIR R4 profile definitions.\n",
        "views = r4.base_r4()\n",
        "\n",
        "# Create shorthand names for resources we will work with.\n",
        "conds = views.view_of('Condition')\n",
        "meds = views.view_of('MedicationRequest')\n",
        "obs = views.view_of('Observation')\n",
        "pats = views.view_of('Patient')"
      ]
    },
    {
      "cell_type": "markdown",
      "metadata": {
        "id": "0r4vK7ZwUujh"
      },
      "source": [
        "Let's take a look at some observation resources by creating FHIRPath expressions to select the items we're interested in.\n",
        "\n",
        "Notice that tab completion works for FHIR fields and FHIRPath functions, so users don't need to switch back and forth to FHIR documentation as much.\n"
      ]
    },
    {
      "cell_type": "code",
      "execution_count": null,
      "metadata": {
        "id": "u43t7AX79C1V"
      },
      "outputs": [],
      "source": [
        "runner.to_dataframe(\n",
        "    obs.select({\n",
        "        'category': obs.category.coding.code,\n",
        "        'code_display': obs.code.coding.display,\n",
        "        'status': obs.status,\n",
        "    }),\n",
        "    limit=5,\n",
        ")"
      ]
    },
    {
      "cell_type": "markdown",
      "metadata": {
        "id": "28V00OWgVZLI"
      },
      "source": [
        "Of course just a sample of codes isn't too useful -- we really want a summary of what codes exist in a field and how many there are. Fortunately, the Spark runner supports a `summarize_codes` method that accepts a view and a field name and does exactly that.\n",
        "\n",
        "Also notice this handles many millions of records in seconds thanks to the underlying Spark execution engine."
      ]
    },
    {
      "cell_type": "code",
      "execution_count": null,
      "metadata": {
        "id": "zoOfuYBi8cOn"
      },
      "outputs": [],
      "source": [
        "runner.summarize_codes(obs, obs.category)"
      ]
    },
    {
      "cell_type": "markdown",
      "metadata": {
        "id": "uBKeoQhuVou2"
      },
      "source": [
        "We can also do so for conditions or other resources:"
      ]
    },
    {
      "cell_type": "code",
      "execution_count": null,
      "metadata": {
        "id": "8DDj3s2-cTQK"
      },
      "outputs": [],
      "source": [
        "runner.summarize_codes(conds, conds.code)"
      ]
    },
    {
      "cell_type": "markdown",
      "metadata": {
        "id": "03uKoApvYrso"
      },
      "source": [
        "# Creating Views\n",
        "FHIR Data is complicated, but there is usually a flat, tabular form of it that can satisfy a given use case and data set.\n",
        "\n",
        "For example, imagine we need a simple table of patients with their current address. This isn't trivial to query since the address is a nested repeated field. Fortunately we can build a FHIRPath expression to find the current address and create a flattened view using that. \n",
        "\n",
        "(This can vary by dataset, but in this case we determine the current address by finding the first address that does not have a period attached to it.)"
      ]
    },
    {
      "cell_type": "code",
      "execution_count": null,
      "metadata": {
        "id": "HGAZctdLY-y9"
      },
      "outputs": [],
      "source": [
        "# For this dataset we interpret the current address as one where period is empty.\n",
        "\n",
        "current = pats.address.where(pats.address.period.empty()).first()\n",
        "\n",
        "simple_pats = pats.select({\n",
        "    'id': pats.id,\n",
        "    'gender': pats.gender,\n",
        "    'birthdate': pats.birthDate,\n",
        "    'street': current.line.first(),\n",
        "    'city': current.city,\n",
        "    'state': current.state,\n",
        "    'zip': current.postalCode,\n",
        "})\n",
        "\n",
        "runner.to_dataframe(simple_pats, limit=5)"
      ]
    },
    {
      "cell_type": "markdown",
      "metadata": {
        "id": "Ap4c1Xxka3m6"
      },
      "source": [
        "That's nice, but suppose we want to create it as an actual Spark view -- basically a virtual table that can be easily used by *any* application that uses Spark. We can simply turn that definition into a Spark view: *italicized text*"
      ]
    },
    {
      "cell_type": "code",
      "execution_count": null,
      "metadata": {
        "id": "OegHj4i_fHBc"
      },
      "outputs": [],
      "source": [
        "runner.create_database_view(simple_pats, 'patients')"
      ]
    },
    {
      "cell_type": "code",
      "execution_count": null,
      "metadata": {
        "id": "bA5MKVgpfN8p"
      },
      "outputs": [],
      "source": [
        "pandas.read_sql_query(\n",
        "    sql='SELECT * FROM statin_analysis_example.patients LIMIT 5',\n",
        "    con=query_engine,\n",
        ")"
      ]
    },
    {
      "cell_type": "markdown",
      "metadata": {
        "id": "wV_JX6RELMdS"
      },
      "source": [
        "Now we have a nice, flattened patients table that meets the needs of our system and data. We'll create similarly simple views of other resources as well, but first we need to introduce another concept: value sets. \n",
        "\n",
        "# Using Value Sets\n",
        "Code value sets are a central part of nearly any significant FHIR-based data analysis. For instance, the car gap analysis below needs to query for statin medications, LDL tests, and other concepts. Users could track down specific code values, but there's a better way: we will use predefined, curated value sets from the [Value Set Authority Center](https://vsac.nlm.nih.gov/) that define this content.\n",
        "\n",
        "Here's an example search for LDL codes to use in our analysis:\n",
        "\n",
        "![image.png](data:image/png;base64,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)\n",
        "\n",
        "First we need to obtain the content. Users may create a value set table themselves and populate it as needed, but this library also supports the ability to connect to a FHIR terminology server and retrieve the needed values. The example below shows connecting to VSAC's terminology server and getting code values for statins, CHD, and LDL tests:"
      ]
    },
    {
      "cell_type": "code",
      "execution_count": null,
      "metadata": {
        "id": "o7fxaelMz55s"
      },
      "outputs": [],
      "source": [
        "# Value set URLs used in the queries\n",
        "STATIN_MEDS = (\n",
        "    'http://cts.nlm.nih.gov/fhir/ValueSet/2.16.840.1.113883.3.117.1.7.1.225'\n",
        ")\n",
        "CHD_OR_RISK_EQUIV = (\n",
        "    'http://cts.nlm.nih.gov/fhir/ValueSet/2.16.840.1.113883.3.600.862'\n",
        ")\n",
        "LDL_TEST = 'http://cts.nlm.nih.gov/fhir/ValueSet/2.16.840.1.113883.3.464.1003.198.11.1029'"
      ]
    },
    {
      "cell_type": "code",
      "execution_count": null,
      "metadata": {
        "id": "crI1hJU4cFKY"
      },
      "outputs": [],
      "source": [
        "import getpass\n",
        "from google.fhir.r4.terminology import terminology_service_client\n",
        "\n",
        "api_key = getpass.getpass('UMLS API KEY: ')\n",
        "\n",
        "tx_client = terminology_service_client.TerminologyServiceClient({\n",
        "    'http://cts.nlm.nih.gov/fhir/': ('apikey', api_key),\n",
        "})\n",
        "runner.materialize_value_set_expansion((STATIN_MEDS, LDL_TEST, CHD_OR_RISK_EQUIV), tx_client)"
      ]
    },
    {
      "cell_type": "markdown",
      "metadata": {
        "id": "ouSg5jjKcRXo"
      },
      "source": [
        "Now that we've downloaded that content, let's take a look at the value_set_codes table it produced:"
      ]
    },
    {
      "cell_type": "code",
      "execution_count": null,
      "metadata": {
        "id": "l7oMAdLw4Xdu"
      },
      "outputs": [],
      "source": [
        "pandas.read_sql_query(\n",
        "    sql=\"\"\"\n",
        "    SELECT * FROM  default.value_set_codes\n",
        "    WHERE valueseturi = 'http://cts.nlm.nih.gov/fhir/ValueSet/2.16.840.1.113883.3.464.1003.198.11.1029'\n",
        "    \"\"\",\n",
        "    con=query_engine,\n",
        ")"
      ]
    },
    {
      "cell_type": "markdown",
      "metadata": {
        "id": "pvK77y74ivgB"
      },
      "source": [
        "We now have the value sets needed for some analysis stored in Spark, so let's use them for an important use case: identifying gaps in care.\n",
        "\n",
        "\n",
        "# Identifying Statin Therapy Care Gaps\n",
        "This section analyzes the use of statin therapy for patients who have been diagnosed with Coronary Heart Disease (CHD) or have equivalent risks. We achieve this by first identifying a cohort of patients and then measuring the percentage of them with the recommended therapy. \n",
        "\n",
        "Some of this content is based on the [Statin Therapy eCQM](https://ecqi.healthit.gov/system/files/ecqm/measures/CMS347v1.html).\n",
        "\n",
        "## The cohort:\n",
        "Patients who have either of the following during the measurement period:\n",
        "* Coronary Heart Disease or equivalent risks (as defiend by CMS) OR\n",
        "* An LDL-C greater than or equal to 180\n",
        "\n",
        "## The measure:\n",
        "The percentage of cohort members who have statin therapy. Let's take the complex FHIR data and create some simple views for our needs, starting with a view of all LDL values:\n",
        "\n"
      ]
    },
    {
      "cell_type": "code",
      "execution_count": null,
      "metadata": {
        "id": "ag9kU7FlFRsQ"
      },
      "outputs": [],
      "source": [
        "ldl_obs = obs.select({\n",
        "    'patient': obs.subject.getReferenceKey('Patient'),\n",
        "    'value': obs.value.ofType('Quantity').value,\n",
        "    'unit': obs.value.ofType('Quantity').unit,\n",
        "    'test': obs.code.coding.display.first(),\n",
        "    'effectiveTime': obs.effective.ofType('dateTime'),\n",
        "}).where(obs.code.memberOf(LDL_TEST))\n",
        "\n",
        "runner.to_dataframe(ldl_obs, limit=10)"
      ]
    },
    {
      "cell_type": "markdown",
      "metadata": {
        "id": "0mXcIk3ZO4mn"
      },
      "source": [
        "Now we can create it as a Spark view -- and *all* analysis that needs LDL values can simply use this nice, flattened table for that use case.\n",
        "\n",
        "We recommend creating such simple, flattened tables for each major part of your analysis. That way they can be inspected and validated independently of the measure logic, making it much easier to separate and solve data and logic issues."
      ]
    },
    {
      "cell_type": "code",
      "execution_count": null,
      "metadata": {
        "id": "ovP-KPoGQJv7"
      },
      "outputs": [],
      "source": [
        "runner.create_database_view(ldl_obs, 'ldl_obs')"
      ]
    },
    {
      "cell_type": "markdown",
      "metadata": {
        "id": "cS1sZ9Ye4wc8"
      },
      "source": [
        "Let's do some minimal validation by plotting a random sample of all LDL values. \n",
        "\n",
        "You can see a clear bimodal distribution in this example. This is an artifact of the branching logic synthetic data generator used to create the data, where some generated patients are branched with conditions."
      ]
    },
    {
      "cell_type": "code",
      "execution_count": null,
      "metadata": {
        "id": "f6lyLqYPJFtp"
      },
      "outputs": [],
      "source": [
        "ldl_values = pandas.read_sql_query(\n",
        "    sql=\"\"\"\n",
        "    SELECT value FROM statin_analysis_example.ldl_obs WHERE RAND() \u003c 0.01\n",
        "    \"\"\",\n",
        "    con=query_engine,\n",
        ")"
      ]
    },
    {
      "cell_type": "code",
      "execution_count": null,
      "metadata": {
        "id": "PqL4cRC2JO1q"
      },
      "outputs": [],
      "source": [
        "ldl_values.plot.hist(bins=50)"
      ]
    },
    {
      "cell_type": "markdown",
      "metadata": {
        "id": "khAAO5rOViqc"
      },
      "source": [
        "Now we'll take a similar approach to another part of our analysis: a view of Coronary Heart Disease conditions or requivalent risks."
      ]
    },
    {
      "cell_type": "code",
      "execution_count": null,
      "metadata": {
        "id": "KaXyO5uNNBz9"
      },
      "outputs": [],
      "source": [
        "chd_or_equiv_risks = conds.select({\n",
        "    'patient': conds.subject.getReferenceKey('Patient'),\n",
        "    'onsetTime': conds.onset.ofType('dateTime'),\n",
        "    'code': conds.code.coding.code.first(),\n",
        "    'display': conds.code.coding.display.first(),\n",
        "}).where(conds.code.memberOf(CHD_OR_RISK_EQUIV))\n",
        "\n",
        "runner.create_database_view(chd_or_equiv_risks, 'chd_or_equiv_risks')\n",
        "runner.to_dataframe(chd_or_equiv_risks, limit=10)"
      ]
    },
    {
      "cell_type": "markdown",
      "metadata": {
        "id": "RIFwwyOy622m"
      },
      "source": [
        "Let's look at the condition codes to see if this looks reasonable. Notice that the value set defined for this analysis includes diabetes as a risk equivalent here, as seen in the reulting counts:"
      ]
    },
    {
      "cell_type": "code",
      "execution_count": null,
      "metadata": {
        "id": "rzfSXYRHFTX_"
      },
      "outputs": [],
      "source": [
        "pandas.read_sql_query(\n",
        "    sql=\"\"\"\n",
        "      SELECT code, display, COUNT(*) count\n",
        "      FROM statin_analysis_example.chd_or_equiv_risks\n",
        "      GROUP BY code, display ORDER BY count DESC\n",
        "    \"\"\",\n",
        "    con=query_engine,\n",
        ")"
      ]
    },
    {
      "cell_type": "markdown",
      "metadata": {
        "id": "6eGPavqLXp2X"
      },
      "source": [
        "And now for Statin medications:"
      ]
    },
    {
      "cell_type": "code",
      "execution_count": null,
      "metadata": {
        "id": "3bLmq6X3cp8S",
        "tags": []
      },
      "outputs": [],
      "source": [
        "statin_meds = meds.select(\n",
        "    {'patient': meds.subject.getReferenceKey('Patient'), 'authoredOn': meds.authoredOn}\n",
        ").where(meds.medication.ofType('CodeableConcept').memberOf(STATIN_MEDS))\n",
        "\n",
        "runner.create_database_view(statin_meds, 'statin_meds')"
      ]
    },
    {
      "cell_type": "code",
      "execution_count": null,
      "metadata": {
        "id": "AsKaJHXx2_xw"
      },
      "outputs": [],
      "source": [
        "pandas.read_sql_query(\n",
        "    sql=\"\"\"\n",
        "      SELECT * FROM statin_analysis_example.statin_meds LIMIT 10\n",
        "    \"\"\",\n",
        "    con=query_engine,\n",
        ")"
      ]
    },
    {
      "cell_type": "markdown",
      "metadata": {
        "id": "MMOlERBl2_xx"
      },
      "source": [
        "## Higher-level views for analysis\n",
        "We've taken our first step: going from complex data structures and code systems with simple tables that meet our use case. Now we can continue this pattern by *layering* views to meet specific needs, modularizing and simplifying additional logic.\n",
        "\n",
        "This quality measure indicates that statin mediations are needed if a patient has a high LDL vale *or* CHD or equivalent risk. We can join to the current tables for this in our measure logic, but let's eliminate that need by creating a single `statin_needed_events` view that simply indicates the patient, the date when the statin need arose, and a string indicating why."
      ]
    },
    {
      "cell_type": "code",
      "execution_count": null,
      "metadata": {
        "id": "zRVKMFC22_xx"
      },
      "outputs": [],
      "source": [
        "pandas.read_sql_query(\n",
        "    sql=\"\"\"\n",
        "      CREATE OR REPLACE VIEW statin_analysis_example.statin_needed_events AS (\n",
        "        SELECT patient, \n",
        "              DATE(effectiveTime) date, \n",
        "              'High LDL' reason\n",
        "        FROM statin_analysis_example.ldl_obs\n",
        "        WHERE ldl_obs.value \u003e 180\n",
        "        UNION ALL\n",
        "        select patient, \n",
        "              DATE(onsetTime) date, \n",
        "              display reason\n",
        "        FROM statin_analysis_example.chd_or_equiv_risks)\n",
        "    \"\"\",\n",
        "    con=query_engine,\n",
        ")"
      ]
    },
    {
      "cell_type": "code",
      "execution_count": null,
      "metadata": {
        "id": "IDugL4-l2_xx"
      },
      "outputs": [],
      "source": [
        "pandas.read_sql_query(\n",
        "    sql=\"\"\"\n",
        "    SELECT * FROM statin_analysis_example.statin_needed_events \n",
        "    WHERE date \u003e= '2018-01-01' \n",
        "    ORDER BY date \n",
        "    LIMIT 10\n",
        "    \"\"\",\n",
        "    con=query_engine,\n",
        ")"
      ]
    },
    {
      "cell_type": "markdown",
      "metadata": {
        "id": "UVs1OjLW7W9L"
      },
      "source": [
        "This is effectively a time series of statin needed events that can be used for the quality measure and a number of other analytics, like tracking and trending by time, location, demographics, or other dimensions.\n",
        "\n",
        "# Bringing it all together\n",
        "Now we have the building blocks, so let's do our (simplified) care gap analysis itself. The key questions are for during the measurement period:\n",
        "\n",
        "* Does the patient have a statin needed event as defined above? This is our population denominator.\n",
        "* Is there a record of statin medications for that patient within 30 days of that event? This is the numerator of our measure.\n",
        "\n",
        "We will support this by creating a simple view that brings together some patient demographics, the statin need information, and whether the patient actually got a statin medication within 30 days of the need. This is basically a join of the tables we created above:"
      ]
    },
    {
      "cell_type": "code",
      "execution_count": null,
      "metadata": {
        "id": "azySnQh22_xx"
      },
      "outputs": [],
      "source": [
        "pandas.read_sql_query(\n",
        "    sql=\"\"\"\n",
        "    CREATE OR REPLACE VIEW statin_analysis_example.statin_patient_population AS (\n",
        "    SELECT p.id,\n",
        "          floor(months_between(CURRENT_DATE(), p.birthDate)/12) AS age,\n",
        "          p.gender,\n",
        "          p.zip,\n",
        "          e.date needs_statin_date,\n",
        "          e.reason needs_statin_reason,\n",
        "          (SELECT bool_and(true)\n",
        "            FROM (\n",
        "                SELECT e.date AS date, m.authoredOn AS authoredOn\n",
        "                FROM statin_analysis_example.statin_meds m \n",
        "                WHERE m.patient = e.patient \n",
        "            ) WHERE   DATEDIFF(date, authoredOn) BETWEEN -30 AND 30\n",
        "        ) got_statin\n",
        "    FROM statin_analysis_example.patients AS p \n",
        "    INNER JOIN statin_analysis_example.statin_needed_events AS e ON p.id = e.patient\n",
        "    )\n",
        "    \"\"\",\n",
        "    con=query_engine,\n",
        ")"
      ]
    },
    {
      "cell_type": "code",
      "execution_count": null,
      "metadata": {
        "id": "UcppP0Zv2_xy"
      },
      "outputs": [],
      "source": [
        "pandas.read_sql_query(\n",
        "    sql=\"\"\"\n",
        "    SELECT * FROM statin_analysis_example.statin_patient_population LIMIT 10\n",
        "    \"\"\",\n",
        "    con=query_engine,\n",
        ")"
      ]
    },
    {
      "cell_type": "markdown",
      "metadata": {
        "id": "kDN2XvRg2_xy"
      },
      "source": [
        "The advantage of using Spark views is they are always up to date with the underlying data, but this comes at the cost of rerunning the entire analysis for the population each time. If this is too expensive for some workloads, users can either load data into an in-process dataframe if small enough, or materialize it in Spark.\n",
        "\n",
        "Let's create a simple materialized form of the above for convenience here."
      ]
    },
    {
      "cell_type": "code",
      "execution_count": null,
      "metadata": {
        "id": "cnq87lj72_xy"
      },
      "outputs": [],
      "source": [
        "# This function takes a long time to execute\n",
        "with query_engine.connect() as curs:\n",
        "  curs.execute(\n",
        "      'DROP TABLE IF EXISTS'\n",
        "      f' {analysis_dataset}.statin_patient_population_materialized;'\n",
        "  )\n",
        "  curs.execute(\n",
        "      f'CREATE TABLE {analysis_dataset}.statin_patient_population_materialized'\n",
        "      ' AS SELECT * FROM statin_analysis_example.statin_patient_population;'\n",
        "  )"
      ]
    },
    {
      "cell_type": "markdown",
      "metadata": {
        "id": "CVwbTNGP2_xy"
      },
      "source": [
        "Finally, we do a simple rollup to see who needs statin medications and who got them:"
      ]
    },
    {
      "cell_type": "code",
      "execution_count": null,
      "metadata": {
        "id": "sDqVLWC62_xy"
      },
      "outputs": [],
      "source": [
        "pandas.read_sql_query(\n",
        "    sql=\"\"\"\n",
        "      SELECT needs_statin_date is NOT NULL needs_statin,\n",
        "            got_statin,\n",
        "            COUNT(*) count\n",
        "      FROM statin_analysis_example.statin_patient_population_materialized\n",
        "      WHERE needs_statin_date BETWEEN '2018-01-01' AND '2018-12-31'\n",
        "      GROUP BY needs_statin, got_statin\n",
        "    \"\"\",\n",
        "    con=query_engine,\n",
        ")"
      ]
    },
    {
      "cell_type": "markdown",
      "metadata": {
        "id": "k-DH8FNH2_xz"
      },
      "source": [
        "And of course we can break this down by further dimensions. For example, we may need to identify which zip code has the biggest need here so we can allocate resources accordingly:"
      ]
    },
    {
      "cell_type": "code",
      "execution_count": null,
      "metadata": {
        "id": "QXqIdjbv2_xz",
        "tags": []
      },
      "outputs": [],
      "source": [
        "pandas.read_sql_query(\n",
        "    sql=\"\"\"\n",
        "      SELECT zip, COUNT(*) needs_statin_count\n",
        "      FROM statin_analysis_example.statin_patient_population_materialized \n",
        "      GROUP BY zip ORDER BY needs_statin_count DESC \n",
        "      LIMIT 5\n",
        "    \"\"\",\n",
        "    con=query_engine,\n",
        ")"
      ]
    },
    {
      "cell_type": "markdown",
      "metadata": {
        "id": "-413CPWP2_xz"
      },
      "source": [
        "Finally, in this and many cases, we've constrained the data to a subset that can be loaded into an in-process dataframe and analyzed locally. This can be much faster and less costly, so let's go ahead and create a statin data frame for our analysis year and explore it in memory:"
      ]
    },
    {
      "cell_type": "code",
      "execution_count": null,
      "metadata": {
        "id": "d5XxrboH2_xz"
      },
      "outputs": [],
      "source": [
        "statin_needs = pandas.read_sql_query(\n",
        "    sql=\"\"\"\n",
        "      SELECT * \n",
        "      FROM statin_analysis_example.statin_patient_population_materialized\n",
        "      WHERE needs_statin_date BETWEEN '2018-01-01' AND '2018-12-31'\n",
        "    \"\"\",\n",
        "    con=query_engine,\n",
        ")"
      ]
    },
    {
      "cell_type": "code",
      "execution_count": null,
      "metadata": {
        "id": "anbV5aLw2_xz"
      },
      "outputs": [],
      "source": [
        "statin_needs['age'].plot.hist(bins=50)"
      ]
    },
    {
      "cell_type": "markdown",
      "metadata": {
        "id": "xeDbAq652_x0"
      },
      "source": [
        "And here's a list of the most common reasons the population needs statin medications:"
      ]
    },
    {
      "cell_type": "code",
      "execution_count": null,
      "metadata": {
        "id": "byx0WEwA2_x0"
      },
      "outputs": [],
      "source": [
        "statin_needs.groupby(['needs_statin_reason'])[\n",
        "    'needs_statin_reason'\n",
        "].count().sort_values(ascending=False).to_frame().head()"
      ]
    },
    {
      "cell_type": "markdown",
      "metadata": {
        "id": "SQ6CpP-T2_x0"
      },
      "source": [
        "# Building on the Views\n",
        "That's it for this notebook! We now have Spark views in place that can easily summarize the key dimensions and metrics needed to track this measure. From here users can use their analytics tool of choice to create dashboards or other tools needed for users to help identify and close care gaps."
      ]
    }
  ],
  "metadata": {
    "colab": {
      "last_runtime": {
        "build_target": "",
        "kind": "local"
      },
      "provenance": [
        {
          "file_id": "1_oxgM2_GoieyC5pE9aDlsUYBuHqCiFh7",
          "timestamp": 1660152708839
        }
      ]
    },
    "environment": {
      "kernel": "python3",
      "name": "common-cpu.m95",
      "type": "gcloud",
      "uri": "gcr.io/deeplearning-platform-release/base-cpu:m95"
    },
    "kernelspec": {
      "display_name": "Python 3",
      "language": "python",
      "name": "python3"
    },
    "language_info": {
      "codemirror_mode": {
        "name": "ipython",
        "version": 3
      },
      "file_extension": ".py",
      "mimetype": "text/x-python",
      "name": "python",
      "nbconvert_exporter": "python",
      "pygments_lexer": "ipython3",
      "version": "3.8.10"
    }
  },
  "nbformat": 4,
  "nbformat_minor": 0
}
